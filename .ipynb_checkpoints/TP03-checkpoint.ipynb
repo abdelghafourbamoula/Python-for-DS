{
 "cells": [
  {
   "cell_type": "markdown",
   "id": "f1a4dfe7",
   "metadata": {},
   "source": [
    "## Exercice 1 (La distance de Hamming)"
   ]
  },
  {
   "cell_type": "code",
   "execution_count": 4,
   "id": "22d97ab2",
   "metadata": {},
   "outputs": [],
   "source": [
    "def distanceH(S1,S2):\n",
    "    if len(S1)==len(S2):\n",
    "        return sum([1 for i in range(len(S1)) if S1[i] != S2[i]])"
   ]
  },
  {
   "cell_type": "code",
   "execution_count": 5,
   "id": "a555072d",
   "metadata": {},
   "outputs": [
    {
     "data": {
      "text/plain": [
       "1"
      ]
     },
     "execution_count": 5,
     "metadata": {},
     "output_type": "execute_result"
    }
   ],
   "source": [
    "distanceH(\"sure\", \"cure\")"
   ]
  },
  {
   "cell_type": "code",
   "execution_count": 6,
   "id": "25b76b85",
   "metadata": {},
   "outputs": [],
   "source": [
    "def distanceH_langage(L):\n",
    "    return min([distanceH(S1, S2) for S1 in L for S2 in L if S1 != S2])"
   ]
  },
  {
   "cell_type": "code",
   "execution_count": 7,
   "id": "291d6759",
   "metadata": {},
   "outputs": [
    {
     "data": {
      "text/plain": [
       "1"
      ]
     },
     "execution_count": 7,
     "metadata": {},
     "output_type": "execute_result"
    }
   ],
   "source": [
    "langage =[\"aabb\",\"xayy\",\"tghy\",\"xgyy\"]\n",
    "distanceH_langage(langage)"
   ]
  },
  {
   "cell_type": "code",
   "execution_count": 8,
   "id": "d8310b5f",
   "metadata": {},
   "outputs": [],
   "source": [
    "def binaire(N):\n",
    "    B = ''\n",
    "    while N!=0:\n",
    "        B += str(N%2)\n",
    "        N//=2\n",
    "        \n",
    "    if len(B) != 8:\n",
    "        B = (8-len(B))*'0' + B\n",
    "    return B"
   ]
  },
  {
   "cell_type": "code",
   "execution_count": 9,
   "id": "94e6cc25",
   "metadata": {},
   "outputs": [
    {
     "data": {
      "text/plain": [
       "'00000111'"
      ]
     },
     "execution_count": 9,
     "metadata": {},
     "output_type": "execute_result"
    }
   ],
   "source": [
    "A = 7\n",
    "B = 4\n",
    "binaire(A)"
   ]
  },
  {
   "cell_type": "code",
   "execution_count": 10,
   "id": "2d66c81b",
   "metadata": {},
   "outputs": [],
   "source": [
    "def distanceNombre(A, B):\n",
    "    return distanceH(binaire(A), binaire(B))"
   ]
  },
  {
   "cell_type": "code",
   "execution_count": 11,
   "id": "382695b3",
   "metadata": {},
   "outputs": [
    {
     "data": {
      "text/plain": [
       "2"
      ]
     },
     "execution_count": 11,
     "metadata": {},
     "output_type": "execute_result"
    }
   ],
   "source": [
    "distanceNombre(A, B)"
   ]
  },
  {
   "cell_type": "markdown",
   "id": "b69c23ee",
   "metadata": {},
   "source": [
    "## Exercice 2 (ADN et génôme)"
   ]
  },
  {
   "cell_type": "code",
   "execution_count": 12,
   "id": "1d457684",
   "metadata": {},
   "outputs": [],
   "source": [
    "def estADN(ch):\n",
    "    return False not in [False for i in ch if i not in ['A','C','G','T']]"
   ]
  },
  {
   "cell_type": "code",
   "execution_count": 13,
   "id": "6ad72800",
   "metadata": {},
   "outputs": [
    {
     "data": {
      "text/plain": [
       "True"
      ]
     },
     "execution_count": 13,
     "metadata": {},
     "output_type": "execute_result"
    }
   ],
   "source": [
    "estADN(\"TTGAC\")"
   ]
  },
  {
   "cell_type": "code",
   "execution_count": 14,
   "id": "f0f239cd",
   "metadata": {},
   "outputs": [
    {
     "data": {
      "text/plain": [
       "False"
      ]
     },
     "execution_count": 14,
     "metadata": {},
     "output_type": "execute_result"
    }
   ],
   "source": [
    "estADN(\"CaTG\")"
   ]
  },
  {
   "cell_type": "code",
   "execution_count": 15,
   "id": "3d5dda35",
   "metadata": {},
   "outputs": [
    {
     "data": {
      "text/plain": [
       "False"
      ]
     },
     "execution_count": 15,
     "metadata": {},
     "output_type": "execute_result"
    }
   ],
   "source": [
    "estADN(\"AMOG\")"
   ]
  },
  {
   "cell_type": "code",
   "execution_count": 16,
   "id": "f777e72b",
   "metadata": {},
   "outputs": [],
   "source": [
    "def masseMolaire(ch):\n",
    "    ADN_mm = {'A':135, 'C':126 ,'G':151, 'T':111}\n",
    "    if estADN(ch):\n",
    "        return sum([ADN_mm[l] for l in ch])"
   ]
  },
  {
   "cell_type": "code",
   "execution_count": 17,
   "id": "f3231317",
   "metadata": {},
   "outputs": [
    {
     "data": {
      "text/plain": [
       "658"
      ]
     },
     "execution_count": 17,
     "metadata": {},
     "output_type": "execute_result"
    }
   ],
   "source": [
    "masseMolaire(\"AGATC\")"
   ]
  },
  {
   "cell_type": "code",
   "execution_count": 18,
   "id": "4dbd679e",
   "metadata": {},
   "outputs": [],
   "source": [
    "def brinComp(b):\n",
    "    ADN_comp = {'A':'T','T':'A','C':'G','G':'C'}\n",
    "    if estADN(b):\n",
    "        return str([ADN_comp[l] for l in b])"
   ]
  },
  {
   "cell_type": "code",
   "execution_count": 19,
   "id": "086e7a7d",
   "metadata": {},
   "outputs": [
    {
     "data": {
      "text/plain": [
       "\"['T', 'T', 'C', 'A']\""
      ]
     },
     "execution_count": 19,
     "metadata": {},
     "output_type": "execute_result"
    }
   ],
   "source": [
    "brinComp(\"AAGT\")"
   ]
  },
  {
   "cell_type": "code",
   "execution_count": null,
   "id": "f5ee12b3",
   "metadata": {},
   "outputs": [],
   "source": []
  }
 ],
 "metadata": {
  "kernelspec": {
   "display_name": "Python 3",
   "language": "python",
   "name": "python3"
  },
  "language_info": {
   "codemirror_mode": {
    "name": "ipython",
    "version": 3
   },
   "file_extension": ".py",
   "mimetype": "text/x-python",
   "name": "python",
   "nbconvert_exporter": "python",
   "pygments_lexer": "ipython3",
   "version": "3.8.5"
  }
 },
 "nbformat": 4,
 "nbformat_minor": 5
}
