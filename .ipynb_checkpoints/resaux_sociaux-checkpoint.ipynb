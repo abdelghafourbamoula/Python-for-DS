{
 "cells": [
  {
   "cell_type": "markdown",
   "metadata": {},
   "source": [
    "#         Problème : Étude de réseaux sociaux\n",
    "### Abdelghafour Bamoula"
   ]
  },
  {
   "cell_type": "markdown",
   "metadata": {},
   "source": [
    "#### Question 1.1 Donner une représentation sous forme de listes pour chacun des deux réseaux sociaux ci-dessous :"
   ]
  },
  {
   "cell_type": "code",
   "execution_count": 32,
   "metadata": {},
   "outputs": [],
   "source": [
    "reseau_A = [ 5,\n",
    "            [ [0,1],[0,2],[0,3],\n",
    "              [1,3],[2,3],[4] ]\n",
    "            ]\n",
    "\n",
    "reseau_B = [ 6,\n",
    "            [ [0,1],[1,2],[1,3],\n",
    "              [2,3],[2,4],[4,3] ]\n",
    "            ]"
   ]
  },
  {
   "cell_type": "markdown",
   "metadata": {},
   "source": [
    "#### Question 1.2 Écrire une fonction creerReseauVide(n) qui crée, initialise et renvoie la représentation sous forme de liste du réseau à n individus n’ayant aucun lien d’amitié déclaré entre eux.\n"
   ]
  },
  {
   "cell_type": "code",
   "execution_count": 33,
   "metadata": {},
   "outputs": [],
   "source": [
    "def creerReseauVide(n):\n",
    "    return [n]+[[[i] for i in range(n)]]\n",
    "    "
   ]
  },
  {
   "cell_type": "code",
   "execution_count": 34,
   "metadata": {},
   "outputs": [
    {
     "data": {
      "text/plain": [
       "[8, [[0], [1], [2], [3], [4], [5], [6], [7]]]"
      ]
     },
     "execution_count": 34,
     "metadata": {},
     "output_type": "execute_result"
    }
   ],
   "source": [
    "creerReseauVide(8)"
   ]
  },
  {
   "cell_type": "markdown",
   "metadata": {},
   "source": [
    "#### Question 1.3 Écrire une fonction estUnLienEntre(paire,i,j) où paire est une liste à deux éléments et i et j sont deux entiers, et qui renvoie True si les deux éléments contenus dans paire sont i et j dans un ordre quelconque ; et renvoie False sinon."
   ]
  },
  {
   "cell_type": "code",
   "execution_count": 35,
   "metadata": {},
   "outputs": [],
   "source": [
    "def estUnLienEntre(paire,i,j):\n",
    "    return True if (i in paire and j in paire) else False"
   ]
  },
  {
   "cell_type": "code",
   "execution_count": 36,
   "metadata": {},
   "outputs": [
    {
     "data": {
      "text/plain": [
       "True"
      ]
     },
     "execution_count": 36,
     "metadata": {},
     "output_type": "execute_result"
    }
   ],
   "source": [
    "estUnLienEntre([0,1],1,0)"
   ]
  },
  {
   "cell_type": "code",
   "execution_count": 37,
   "metadata": {},
   "outputs": [
    {
     "data": {
      "text/plain": [
       "False"
      ]
     },
     "execution_count": 37,
     "metadata": {},
     "output_type": "execute_result"
    }
   ],
   "source": [
    "estUnLienEntre([1,2],1,4)"
   ]
  },
  {
   "cell_type": "markdown",
   "metadata": {},
   "source": [
    "#### Question 1.4 Écrire une fonction sontAmis(reseau,i,j) qui renvoie True s’il existe un lien d’amitié entre les individus i et j dans le réseau reseau ; et renvoie False sinon."
   ]
  },
  {
   "cell_type": "code",
   "execution_count": 38,
   "metadata": {},
   "outputs": [],
   "source": [
    "def sontAmis(reseau,i,j):\n",
    "    return True in [True for R in reseau[1] if estUnLienEntre(R,i,j)]"
   ]
  },
  {
   "cell_type": "code",
   "execution_count": 39,
   "metadata": {},
   "outputs": [
    {
     "data": {
      "text/plain": [
       "True"
      ]
     },
     "execution_count": 39,
     "metadata": {},
     "output_type": "execute_result"
    }
   ],
   "source": [
    "sontAmis(reseau_A,0,2)"
   ]
  },
  {
   "cell_type": "code",
   "execution_count": 40,
   "metadata": {},
   "outputs": [
    {
     "data": {
      "text/plain": [
       "False"
      ]
     },
     "execution_count": 40,
     "metadata": {},
     "output_type": "execute_result"
    }
   ],
   "source": [
    "sontAmis(reseau_B,4,0)"
   ]
  },
  {
   "cell_type": "markdown",
   "metadata": {},
   "source": [
    "#### Question 1.5 Écrire une fonction declareAmis(reseau,i,j) qui modifie le réseau reseau pour y ajouter le lien d’amitié entre les individus i et j si ce lien n’y figure pas déjà."
   ]
  },
  {
   "cell_type": "code",
   "execution_count": 41,
   "metadata": {},
   "outputs": [],
   "source": [
    "def declareAmi(reseau,i,j):\n",
    "        if not sontAmis(reseau,i,j): reseau[1].append([i,j])\n"
   ]
  },
  {
   "cell_type": "code",
   "execution_count": 42,
   "metadata": {},
   "outputs": [
    {
     "data": {
      "text/plain": [
       "True"
      ]
     },
     "execution_count": 42,
     "metadata": {},
     "output_type": "execute_result"
    }
   ],
   "source": [
    "declareAmi(reseau_A,2,4)\n",
    "sontAmis(reseau_A,4,2)"
   ]
  },
  {
   "cell_type": "markdown",
   "metadata": {},
   "source": [
    "#### Question 1.6 Écrire une fonction listeDesAmisDe(reseau,i) qui renvoie la liste des amis de i dans le réseau reseau.\n"
   ]
  },
  {
   "cell_type": "code",
   "execution_count": 43,
   "metadata": {},
   "outputs": [],
   "source": [
    "def listeDesAmis(reseau,i):\n",
    "    return [j for j in range(reseau[0]) if sontAmis(reseau,i,j)]"
   ]
  },
  {
   "cell_type": "code",
   "execution_count": 44,
   "metadata": {},
   "outputs": [
    {
     "data": {
      "text/plain": [
       "[0, 1, 2, 3]"
      ]
     },
     "execution_count": 44,
     "metadata": {},
     "output_type": "execute_result"
    }
   ],
   "source": [
    "listeDesAmis(reseau_A,0)"
   ]
  },
  {
   "cell_type": "markdown",
   "metadata": {},
   "source": [
    "## Partie II : Partitions"
   ]
  },
  {
   "cell_type": "markdown",
   "metadata": {},
   "source": [
    "### Question 1.7 Donner les valeurs du tableau parent encodant les représentations fi- liales des deux partitions de [[10]] ci-dessous, et préciser les représentants de chaque groupe :"
   ]
  },
  {
   "cell_type": "markdown",
   "metadata": {},
   "source": [
    "    i      |  0  1  2  3  4  5  6  7  8  9\n",
    "----- ---------------------- -----------------\n",
    "parent[i]: |  5  1  1  3  4  5  1  5  5  7         representation filiale A\n",
    "--------------------------------------------\n",
    "--------------------------------------------\n",
    "parent[i]: |  3  9  0  3  9  4  9  7  1  9         representation filiale B\n",
    "\n"
   ]
  },
  {
   "cell_type": "markdown",
   "metadata": {},
   "source": [
    "###Question 1.8 Écrire une fonction creerPartitionEnSingletons(n) qui crée et ren- voie un tableau parent à n éléments dont les valeurs sont initialisées de sorte à encoder la partition de [[n]] en n groupes d’un seul élément."
   ]
  },
  {
   "cell_type": "code",
   "execution_count": 45,
   "metadata": {},
   "outputs": [],
   "source": [
    "from random import*\n",
    "\n",
    "def creerPartitionEnSingletons(n):\n",
    "    return [randint(0,n) for i in range(n+1)]"
   ]
  },
  {
   "cell_type": "markdown",
   "metadata": {},
   "source": [
    "###Question 1.9 Écrire une fonction representant(parent,i) qui utilise le tableau pa- rent pour trouver et renvoyer l’indice du représentant du groupe auquel appartient i dans la partition encodée par le tableau parent."
   ]
  },
  {
   "cell_type": "code",
   "execution_count": 46,
   "metadata": {},
   "outputs": [],
   "source": [
    "def representant(parent,i):\n",
    "    while parent[i] != i:\n",
    "        i = parent[i]\n",
    "    return i"
   ]
  },
  {
   "cell_type": "code",
   "execution_count": 47,
   "metadata": {},
   "outputs": [
    {
     "data": {
      "text/plain": [
       "9"
      ]
     },
     "execution_count": 47,
     "metadata": {},
     "output_type": "execute_result"
    }
   ],
   "source": [
    "parent = [6, 9, 3, 3, 3, 5, 5, 5, 1, 9, 10, 1, 4, 9, 11, 9]\n",
    "\n",
    "representant(parent,14)"
   ]
  },
  {
   "cell_type": "markdown",
   "metadata": {},
   "source": [
    "### Question 1.10 Écrire une fonction fusion(parent,i,j) qui modifie le tableau parent pour fusionner les deux groupes contenant i et j respectivement."
   ]
  },
  {
   "cell_type": "code",
   "execution_count": 48,
   "metadata": {},
   "outputs": [],
   "source": [
    "def fusion(parent,i,j):\n",
    "    p,q = parent[i],parent[j]\n",
    "    parent[p]=q"
   ]
  },
  {
   "cell_type": "code",
   "execution_count": 49,
   "metadata": {},
   "outputs": [
    {
     "data": {
      "text/plain": [
       "[6, 9, 3, 3, 3, 9, 5, 5, 1, 9, 10, 1, 4, 9, 11, 9]"
      ]
     },
     "execution_count": 49,
     "metadata": {},
     "output_type": "execute_result"
    }
   ],
   "source": [
    "fusion(parent,5,9)\n",
    "parent"
   ]
  },
  {
   "cell_type": "markdown",
   "metadata": {},
   "source": [
    "### Question 1.12 Modifier votre fonction representant(parent,i) pour qu’elle modifie le tableau parent pour faire pointer directement tous les ancêtres de i vers le représentant de i une fois qu’il a été trouvé."
   ]
  },
  {
   "cell_type": "code",
   "execution_count": 51,
   "metadata": {},
   "outputs": [],
   "source": [
    "def representant(parent,i):\n",
    "    p = i\n",
    "    while parent[p] != p:\n",
    "        p = parent[p]\n",
    "    parent[i] = p"
   ]
  },
  {
   "cell_type": "code",
   "execution_count": null,
   "metadata": {},
   "outputs": [],
   "source": []
  }
 ],
 "metadata": {
  "kernelspec": {
   "display_name": "Python 3",
   "language": "python",
   "name": "python3"
  },
  "language_info": {
   "codemirror_mode": {
    "name": "ipython",
    "version": 3
   },
   "file_extension": ".py",
   "mimetype": "text/x-python",
   "name": "python",
   "nbconvert_exporter": "python",
   "pygments_lexer": "ipython3",
   "version": "3.8.5"
  },
  "metadata": {
   "interpreter": {
    "hash": "ea49a9b4ddd5df8f01e6198c7e1099cd1117a687365a24dba115b0d46463ba1a"
   }
  }
 },
 "nbformat": 4,
 "nbformat_minor": 2
}
