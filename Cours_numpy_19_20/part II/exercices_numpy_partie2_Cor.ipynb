{
 "cells": [
  {
   "cell_type": "markdown",
   "metadata": {},
   "source": [
    "## Exercices (partie II) : Mathématique avec Numpy"
   ]
  },
  {
   "cell_type": "code",
   "execution_count": 2,
   "metadata": {},
   "outputs": [],
   "source": [
    "import numpy as np"
   ]
  },
  {
   "cell_type": "markdown",
   "metadata": {},
   "source": [
    "Q1. Trouver la valeur maximale et minimale d'un tableau donné."
   ]
  },
  {
   "cell_type": "code",
   "execution_count": 6,
   "metadata": {},
   "outputs": [
    {
     "name": "stdout",
     "output_type": "stream",
     "text": [
      "[[-1 -4  2]\n",
      " [-3  4  3]\n",
      " [ 2 -3  0]]\n",
      "minimum -4\n",
      "maximum 4\n"
     ]
    }
   ],
   "source": [
    "A=np.random.randint(-5,5,(3,3))\n",
    "print(A)\n",
    "print('minimum',A.min() )\n",
    "print('maximum',A.max() )"
   ]
  },
  {
   "cell_type": "markdown",
   "metadata": {},
   "source": [
    "Q2. Obtenir la valeur minimale et maximale d'un tableau donné le long du deuxième axe."
   ]
  },
  {
   "cell_type": "code",
   "execution_count": 9,
   "metadata": {},
   "outputs": [
    {
     "data": {
      "text/plain": [
       "array([-4, -3, -3])"
      ]
     },
     "execution_count": 9,
     "metadata": {},
     "output_type": "execute_result"
    }
   ],
   "source": [
    "A.min(axis=1)"
   ]
  },
  {
   "cell_type": "code",
   "execution_count": 10,
   "metadata": {},
   "outputs": [
    {
     "data": {
      "text/plain": [
       "array([2, 4, 2])"
      ]
     },
     "execution_count": 10,
     "metadata": {},
     "output_type": "execute_result"
    }
   ],
   "source": [
    "A.max(axis=1)"
   ]
  },
  {
   "cell_type": "markdown",
   "metadata": {},
   "source": [
    "Q3. Calculer la différence entre les valeurs maximale et minimale d'un tableau donné le long du deuxième axe."
   ]
  },
  {
   "cell_type": "code",
   "execution_count": 11,
   "metadata": {},
   "outputs": [
    {
     "data": {
      "text/plain": [
       "array([6, 7, 5])"
      ]
     },
     "execution_count": 11,
     "metadata": {},
     "output_type": "execute_result"
    }
   ],
   "source": [
    "A.max(axis=1)-A.min(axis=1)"
   ]
  },
  {
   "cell_type": "markdown",
   "metadata": {},
   "source": [
    "Q5. Calculer la moyenne, l'écart type et la variance d'un tableau donné le long du deuxième axe."
   ]
  },
  {
   "cell_type": "code",
   "execution_count": 23,
   "metadata": {},
   "outputs": [
    {
     "name": "stdout",
     "output_type": "stream",
     "text": [
      "moyenne [7. 2.]\n",
      "ecart type [2.44948974 0.81649658]\n",
      "variance [6.         0.66666667]\n"
     ]
    }
   ],
   "source": [
    "print('moyenne', B.mean(axis=1))\n",
    "print('ecart type', B.std(axis=1))\n",
    "print('variance', B.var(axis=1))"
   ]
  },
  {
   "cell_type": "markdown",
   "metadata": {},
   "source": [
    "Q6. Calculer la matrice de covariance de deux tableaux donnés."
   ]
  },
  {
   "cell_type": "code",
   "execution_count": 29,
   "metadata": {},
   "outputs": [
    {
     "data": {
      "text/plain": [
       "array([[11.71      , -4.286     ],\n",
       "       [-4.286     ,  2.14413333]])"
      ]
     },
     "execution_count": 29,
     "metadata": {},
     "output_type": "execute_result"
    }
   ],
   "source": [
    "x =np.array([-2.1, -1,  4.3])\n",
    "y =np.array( [3,  1.1,  0.12])\n",
    "np.cov(x,y)"
   ]
  },
  {
   "cell_type": "markdown",
   "metadata": {},
   "source": [
    "Q7. Calculer les coefficients de corrélation deux tableaux 1D donnés."
   ]
  },
  {
   "cell_type": "code",
   "execution_count": 33,
   "metadata": {},
   "outputs": [
    {
     "data": {
      "text/plain": [
       "array([[ 1.        , -0.85535781],\n",
       "       [-0.85535781,  1.        ]])"
      ]
     },
     "execution_count": 33,
     "metadata": {},
     "output_type": "execute_result"
    }
   ],
   "source": [
    "np.corrcoef(x,y)"
   ]
  },
  {
   "cell_type": "markdown",
   "metadata": {},
   "source": [
    "Q8. Multiplier une matrice 5x3 par une matrice 3x2."
   ]
  },
  {
   "cell_type": "code",
   "execution_count": 36,
   "metadata": {},
   "outputs": [
    {
     "data": {
      "text/plain": [
       "array([[ 1.02997988, -2.04993374],\n",
       "       [ 0.38400743, -0.92187361],\n",
       "       [ 0.79787672, -2.56984293],\n",
       "       [ 0.87568337, -2.52695916],\n",
       "       [ 0.92455849, -3.43538393]])"
      ]
     },
     "execution_count": 36,
     "metadata": {},
     "output_type": "execute_result"
    }
   ],
   "source": [
    "E=np.random.randn(5,3)\n",
    "F=np.random.randn(3,2)\n",
    "E@F"
   ]
  },
  {
   "cell_type": "code",
   "execution_count": 37,
   "metadata": {},
   "outputs": [
    {
     "data": {
      "text/plain": [
       "array([[ 1.02997988, -2.04993374],\n",
       "       [ 0.38400743, -0.92187361],\n",
       "       [ 0.79787672, -2.56984293],\n",
       "       [ 0.87568337, -2.52695916],\n",
       "       [ 0.92455849, -3.43538393]])"
      ]
     },
     "execution_count": 37,
     "metadata": {},
     "output_type": "execute_result"
    }
   ],
   "source": [
    "# ou bien\n",
    "E.dot(F)"
   ]
  },
  {
   "cell_type": "markdown",
   "metadata": {},
   "source": [
    "Q9. Calculer le produit cumulatif des éléments le long d'un axe d'un tableau 3x3 donné."
   ]
  },
  {
   "cell_type": "code",
   "execution_count": 38,
   "metadata": {},
   "outputs": [
    {
     "name": "stdout",
     "output_type": "stream",
     "text": [
      "[[-1 -4  2]\n",
      " [-3  4  3]\n",
      " [ 2 -3  0]]\n"
     ]
    },
    {
     "data": {
      "text/plain": [
       "array([[ -1,  -4,   2],\n",
       "       [  3, -16,   6],\n",
       "       [  6,  48,   0]], dtype=int32)"
      ]
     },
     "execution_count": 38,
     "metadata": {},
     "output_type": "execute_result"
    }
   ],
   "source": [
    "print(A)\n",
    "A.cumprod(axis=0)"
   ]
  },
  {
   "cell_type": "markdown",
   "metadata": {},
   "source": [
    "Q10. Calculer $e^x$, par élément d'un tableau $x$ donné."
   ]
  },
  {
   "cell_type": "code",
   "execution_count": 40,
   "metadata": {},
   "outputs": [
    {
     "name": "stdout",
     "output_type": "stream",
     "text": [
      "[ 0.   2.5  5.   7.5 10. ]\n"
     ]
    },
    {
     "data": {
      "text/plain": [
       "array([1.00000000e+00, 1.21824940e+01, 1.48413159e+02, 1.80804241e+03,\n",
       "       2.20264658e+04])"
      ]
     },
     "execution_count": 40,
     "metadata": {},
     "output_type": "execute_result"
    }
   ],
   "source": [
    "x=np.linspace(0,10,5)\n",
    "print(x)\n",
    "np.exp(x)"
   ]
  },
  {
   "cell_type": "markdown",
   "metadata": {},
   "source": [
    "Q12. Calculer le déterminant d'un tableau carré donné."
   ]
  },
  {
   "cell_type": "code",
   "execution_count": 44,
   "metadata": {},
   "outputs": [
    {
     "data": {
      "text/plain": [
       "-31.000000000000014"
      ]
     },
     "execution_count": 44,
     "metadata": {},
     "output_type": "execute_result"
    }
   ],
   "source": [
    "np.linalg.det(A)"
   ]
  },
  {
   "cell_type": "markdown",
   "metadata": {},
   "source": [
    "Q13. Calculer les valeurs propres et les vecteurs propres d'un tableau carré donné."
   ]
  },
  {
   "cell_type": "code",
   "execution_count": 48,
   "metadata": {},
   "outputs": [
    {
     "name": "stdout",
     "output_type": "stream",
     "text": [
      "les valeurs propres sont :\n",
      " [-3.26816884  3.71464543  2.55352341]\n",
      "les vecteurs propres sont :\n",
      " [[-0.890375   -0.62662351  0.64249677]\n",
      " [-0.42963021  0.40595816 -0.20106162]\n",
      " [ 0.15049998 -0.66523752  0.73944041]]\n"
     ]
    }
   ],
   "source": [
    "val,vect=np.linalg.eig(A)\n",
    "print(\"les valeurs propres sont :\\n\",val)\n",
    "print(\"les vecteurs propres sont :\\n\",vect)"
   ]
  },
  {
   "cell_type": "markdown",
   "metadata": {},
   "source": [
    "Q14. Calculer la somme de l'élément diagonal d'un tableau donné."
   ]
  },
  {
   "cell_type": "code",
   "execution_count": 53,
   "metadata": {},
   "outputs": [
    {
     "data": {
      "text/plain": [
       "3"
      ]
     },
     "execution_count": 53,
     "metadata": {},
     "output_type": "execute_result"
    }
   ],
   "source": [
    "A.diagonal().sum()"
   ]
  },
  {
   "cell_type": "code",
   "execution_count": 54,
   "metadata": {},
   "outputs": [
    {
     "data": {
      "text/plain": [
       "3"
      ]
     },
     "execution_count": 54,
     "metadata": {},
     "output_type": "execute_result"
    }
   ],
   "source": [
    "# ou bien\n",
    "np.sum(np.diag(A))"
   ]
  },
  {
   "cell_type": "markdown",
   "metadata": {},
   "source": [
    "Q15. trouver la valeur la plus fréquente dans un tableau."
   ]
  },
  {
   "cell_type": "code",
   "execution_count": 64,
   "metadata": {},
   "outputs": [
    {
     "data": {
      "text/plain": [
       "-3"
      ]
     },
     "execution_count": 64,
     "metadata": {},
     "output_type": "execute_result"
    }
   ],
   "source": [
    "valeurs,counts=np.unique(A,return_counts=True)\n",
    "valeurs[counts.argmax()]"
   ]
  },
  {
   "cell_type": "markdown",
   "metadata": {},
   "source": [
    "Q16. Résoudre le système suivant :"
   ]
  },
  {
   "cell_type": "markdown",
   "metadata": {},
   "source": [
    "$$\\left(\n",
    "\\begin{array}{ccc}\n",
    "1&-2&1\\\\\n",
    "2&0&5\\\\\n",
    "-3&1&6\n",
    "\\end{array}\n",
    "\\right) \\left(\n",
    "\\begin{array}{c}\n",
    "x\\\\\n",
    "y\\\\\n",
    "z\n",
    "\\end{array}\n",
    "\\right)=\\left(\n",
    "\\begin{array}{c}\n",
    "-1\\\\\n",
    "1\\\\\n",
    "3\n",
    "\\end{array}\n",
    "\\right)$$"
   ]
  },
  {
   "cell_type": "code",
   "execution_count": 74,
   "metadata": {},
   "outputs": [
    {
     "name": "stdout",
     "output_type": "stream",
     "text": [
      "le determinant est  51.0\n",
      "la solution est :\n",
      " [[-0.23529412]\n",
      " [ 0.52941176]\n",
      " [ 0.29411765]]\n"
     ]
    }
   ],
   "source": [
    "C=np.array([[1,-2,1],\n",
    "           [2,0,5],\n",
    "           [-3,1,6]])\n",
    "b=np.array([[-1],[1],[3]])\n",
    "print('le determinant est ',np.linalg.det(C)) # tres important pour savoir si la matrice est inverssible\n",
    "sol=np.linalg.inv(C)@b\n",
    "print('la solution est :\\n',sol)"
   ]
  },
  {
   "cell_type": "code",
   "execution_count": null,
   "metadata": {},
   "outputs": [],
   "source": []
  }
 ],
 "metadata": {
  "kernelspec": {
   "display_name": "Python 3",
   "language": "python",
   "name": "python3"
  },
  "language_info": {
   "codemirror_mode": {
    "name": "ipython",
    "version": 3
   },
   "file_extension": ".py",
   "mimetype": "text/x-python",
   "name": "python",
   "nbconvert_exporter": "python",
   "pygments_lexer": "ipython3",
   "version": "3.7.1"
  }
 },
 "nbformat": 4,
 "nbformat_minor": 2
}
