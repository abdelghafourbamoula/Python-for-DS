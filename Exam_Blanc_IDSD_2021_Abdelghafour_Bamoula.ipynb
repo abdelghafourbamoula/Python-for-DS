{
 "cells": [
  {
   "cell_type": "markdown",
   "metadata": {},
   "source": [
    "# EST d'Essaouira  20-21."
   ]
  },
  {
   "cell_type": "markdown",
   "metadata": {},
   "source": [
    "## <center> Devoir libre (Liste \\& Tuple) : Python</center>\n",
    "### <center> Filière IDSD : 1ère Année </center>"
   ]
  },
  {
   "cell_type": "markdown",
   "metadata": {},
   "source": [
    "### <center>Durée : 1h45min</center>"
   ]
  },
  {
   "cell_type": "raw",
   "metadata": {},
   "source": [
    "Nom : Bamoula\n",
    "Prénom : Abdelghafour\n",
    "Groupe : 1"
   ]
  },
  {
   "cell_type": "markdown",
   "metadata": {},
   "source": [
    "### Exercice 1 : Médian d'une liste de nombres\n",
    "    \n",
    "* **Q1/** Écrire la fonction **grands(L,x)** qui reçoit en paramètres une liste de nombres $L$, et un élément $x$ de $L$. La fonction renvoie le nombre d'éléments de $L$ qui sont supérieurs strictement à $x$."
   ]
  },
  {
   "cell_type": "code",
   "execution_count": 1,
   "metadata": {},
   "outputs": [
    {
     "name": "stdout",
     "output_type": "stream",
     "text": [
      "[25, 38]\n"
     ]
    }
   ],
   "source": [
    "def grands(L,x):\n",
    "    return[i for i in L if i>x]\n",
    "\n",
    "L=[25,12,6,17,3,10,20,12,15,38]\n",
    "print(grands(L,20))"
   ]
  },
  {
   "cell_type": "markdown",
   "metadata": {},
   "source": [
    "* **Q2/** Déterminer le nombre maximal de comparaisons dans la fonction **grands(L, x)** en fonction de la taille de $L$ (notée $n$), et justifier votre réponse.\n",
    "\n",
    "###    --> il fait n comparaison si on note n la taille de L, c-a-d la complexite O(n)"
   ]
  },
  {
   "cell_type": "raw",
   "metadata": {},
   "source": []
  },
  {
   "cell_type": "markdown",
   "metadata": {},
   "source": [
    "* **Q3/** Écrire la fonction **petits(L,x)** qui reçoit en paramètres une liste de nombres $L$, et un élément $x$ de $L$. La fonction renvoie le nombre d'éléments de $L$ qui sont inférieurs strictement à $x$."
   ]
  },
  {
   "cell_type": "code",
   "execution_count": 2,
   "metadata": {},
   "outputs": [
    {
     "data": {
      "text/plain": [
       "[12, 6, 17, 3, 10, 12, 15]"
      ]
     },
     "execution_count": 2,
     "metadata": {},
     "output_type": "execute_result"
    }
   ],
   "source": [
    "def petits(L,x):\n",
    "    return[i for i in L if i<x]\n",
    "    \n",
    "L=[25,12,6,17,3,10,20,12,15,38]\n",
    "petits(L,20)"
   ]
  },
  {
   "cell_type": "markdown",
   "metadata": {},
   "source": [
    "$L$ est une liste de taille $n$ qui contient des nombres, et $m$ un élément de $L$.\n",
    "\n",
    "L'élément $m$ est un médian de $L$, si les deux conditions suivantes sont vérifiées :\n",
    "\n",
    "- Le nombre d'éléments de $L$, qui sont supérieurs strictement à $m$, est inférieur ou égale à $n/2$\n",
    "- Le nombre d'éléments de $L$, qui sont inférieurs strictement à $m$, est inférieur ou égale à $n/2$\n",
    "\n",
    "**Exemple** : On considère la liste $L=[25,12,6,17,3,10,20,12,15,38]$, de taille $n=10$.\n",
    "\n",
    "L'élément $12$ est un médian de $L$, car:\n",
    "- $3$ éléments de $L$ sont supérieurs strictement à $12$, et $3 \\leq n/2$.\n",
    "- $5$ éléments de $L$ sont inférieurs strictement à $12$, et $5 \\leq n/2$."
   ]
  },
  {
   "cell_type": "markdown",
   "metadata": {},
   "source": [
    "* **Q4/** Écrire la fonction **median(L)** qui reçoit en paramètre une liste de nombres $L$ non vide, et qui renvoie un élément médian de la liste $L$."
   ]
  },
  {
   "cell_type": "code",
   "execution_count": 3,
   "metadata": {},
   "outputs": [],
   "source": [
    "def median(L):\n",
    "        for x in L:\n",
    "            if len(grands(L,x)) <= len(L)//2 and len(petits(L,x)) <= len(L)//2:\n",
    "                return x\n",
    "                 \n",
    "        return None\n",
    "      "
   ]
  },
  {
   "cell_type": "code",
   "execution_count": 4,
   "metadata": {},
   "outputs": [
    {
     "data": {
      "text/plain": [
       "12"
      ]
     },
     "execution_count": 4,
     "metadata": {},
     "output_type": "execute_result"
    }
   ],
   "source": [
    "median(L)\n"
   ]
  },
  {
   "cell_type": "markdown",
   "metadata": {},
   "source": [
    "### Problème - Réseau routier\n",
    "\n",
    "<img src='./image/routier.png' width=30% height=30%/>\n",
    "$$fig 1 :$$"
   ]
  },
  {
   "cell_type": "markdown",
   "metadata": {},
   "source": [
    "Un réseau routier peut être représenté par un dessin qui se compose de points et de traits continus reliant deux à deux certains de ces points : les points sont les villes, et les lignes sont les routes. On considère que toutes les routes sont à double sens. Chaque route peut être affectée par une valeur qui peut représenter le temps ou la distance entre deux villes, ..."
   ]
  },
  {
   "cell_type": "markdown",
   "metadata": {},
   "source": [
    "On considère un réseau routier composé de $n$ villes (avec $n\\geq 2$). Les villes du réseau routier sont numérotées par des entiers allant de $0$ à $n-1$.\n",
    "\n",
    "<img src='./image/exRoutenb.png'  width=50% height=50%/>\n",
    "$$figure 2 : Réseau\\,routier\\,composé\\, de\\, 15\\, routes,\\, et\\, de\\, 8\\, villes\\, numérotées\\, de\\, 0\\, à\\, 7.$$\n",
    "\n",
    "\n",
    "Pour plus de clarté, tous les exemples de ce problème seront appliqués sur le réseau routier de la figure 2."
   ]
  },
  {
   "cell_type": "markdown",
   "metadata": {},
   "source": [
    "Pour représenter un réseau routier de $n$ villes, on utilise une matrice symétrique $R$ d'ordre $n$($n$ lignes et $n$ colonnes), telle que :\n",
    "\n",
    "Pour toutes les villes $i$ et $j$, telles que $0\\leq i <n$ et $0 \\leq j <n$, on a :\n",
    "\n",
    "- $R_{i,j}=R_{j,i}=1$, s'il existe une route qui relie entre la ville $i$ et la ville $j$\n",
    "- $R_{i,j}=R_{j,i}=0$, sinon\n",
    "\n",
    "**Exemple :** Le réseau routier de la figure 2 est représenté par la matrice $R$ suivante :\n",
    "$$R=\\begin{pmatrix}\n",
    "0& 1& 1& 1& 0& 0& 0& 0\\\\\n",
    "     1& 0& 1& 0& 1& 0& 0& 0\\\\\n",
    "     1& 1& 0& 1& 1& 0& 0& 0\\\\\n",
    "     1& 0& 1& 0& 1& 0& 1& 1\\\\\n",
    "     0& 1& 1& 1& 0& 1& 1& 0\\\\\n",
    "     0& 0& 0& 0& 1& 0& 1& 1\\\\\n",
    "     0& 0& 0& 1& 1& 1& 0& 1\\\\\n",
    "     0& 0& 0& 1& 0& 1& 1& 0\n",
    "\\end{pmatrix}$$"
   ]
  },
  {
   "cell_type": "markdown",
   "metadata": {},
   "source": [
    "* **Q1/** Donner la matrice qui correspond aux deux réseaux routiers $R1$ et $R2$ suivants :\n",
    "<img src='./image/R1R2.png'  width=50% height=50%/>"
   ]
  },
  {
   "cell_type": "markdown",
   "metadata": {},
   "source": [
    "**----- Double clique sur cette case pour modifier les valeurs ----**\n",
    "$$R1=\\begin{pmatrix}\n",
    "     1 1 0 0  x\\\\\n",
    "     0 0 1 1  x\\\\\n",
    "     0 1 0 0  x\\\\\n",
    "     0 1 0 0  x\n",
    "\\end{pmatrix}$$\n",
    "\n",
    "$$R2=\\begin{pmatrix}\n",
    "     0 1 1 0 x\\\\\n",
    "     1 0 1 0 x\\\\\n",
    "     1 1 0 0 x\\\\\n",
    "     0 0 0 0 x\n",
    "\\end{pmatrix}$$"
   ]
  },
  {
   "cell_type": "markdown",
   "metadata": {},
   "source": [
    "En Python, pour représenter la matrice symétrique R d'ordre $n$, on utilise une liste composée de $n$ listes qui sont toutes de même longueur $n$.\n",
    "\n",
    "**Exemple :**\n",
    "\n",
    "La matrice symétrique $R$, du réseau routier de la figure 2, est représentée par la liste $R$, composée de $8$ listes, de taille $8$ chacune :"
   ]
  },
  {
   "cell_type": "code",
   "execution_count": 5,
   "metadata": {},
   "outputs": [],
   "source": [
    " R = [[0, 1, 1, 1, 0, 0, 0, 0],\n",
    "     [1, 0, 1, 0, 1, 0, 0, 0],\n",
    "     [1, 1, 0, 1, 1, 0, 0, 0],\n",
    "     [1, 0, 1, 0, 1, 0, 1, 1],\n",
    "     [0, 1, 1, 1, 0, 1, 1, 0],\n",
    "     [0, 0, 0, 0, 1, 0, 1, 1],\n",
    "     [0, 0, 0, 1, 1, 1, 0, 1],\n",
    "     [0, 0, 0, 1, 0, 1, 1, 0]\n",
    "     ]"
   ]
  },
  {
   "cell_type": "markdown",
   "metadata": {},
   "source": [
    "* **Q2/** A partir de la matrice $R$ de la figure 2, donner les résultats des expressions suivantes :\n",
    "$$R[3][1],\\quad R[1],\\quad  len(R[2]),\\quad  len(R)$$"
   ]
  },
  {
   "cell_type": "markdown",
   "metadata": {},
   "source": [
    "###   $$R[3][1] = 0,\\quad R[1] = [1,0,1,0,1,0,0,0],\\quad  len(R[2]) = 8,\\quad  len(R) = 8$$"
   ]
  },
  {
   "cell_type": "raw",
   "metadata": {},
   "source": [
    "- 𝑅[3][1] : ------------------\n",
    "- 𝑅[1] : ------------------\n",
    "- 𝑙𝑒𝑛(𝑅[2]) : ------------------\n",
    "- 𝑙𝑒𝑛(𝑅) : ------------------"
   ]
  },
  {
   "cell_type": "markdown",
   "metadata": {},
   "source": [
    "### Villes voisines\n",
    "$i$ et $j$ sont deux villes dans un réseau routier représenté par une matrice symétrique $R$. Les villes $i$ et $j$ sont voisines, s'il existe une route entre la vaille $i$ et la ville $j$."
   ]
  },
  {
   "cell_type": "markdown",
   "metadata": {},
   "source": [
    "* **Q 3** Écrire la fonction **voisines(i,j,R)**, qui reçoit en paramètres deux villes $i$ et $j$ d'un réseau routier représenté par la matrice symétrique $R$. La fonction renvoie **True** si les villes $i$ et $j$ sont voisines, sinon, la fonction renvoie **False**.\n",
    "\n",
    "**Exemple:**\n",
    "- voisines (3, 0, R) renvoie la valeur **True**\n",
    "- voisines (3, 5, R) renvoie la valeur **False**"
   ]
  },
  {
   "cell_type": "code",
   "execution_count": 6,
   "metadata": {},
   "outputs": [],
   "source": [
    "def voisines(i,j,R):\n",
    "    return True if R[i][j] == R[j][i] == 1 else False"
   ]
  },
  {
   "cell_type": "code",
   "execution_count": 7,
   "metadata": {},
   "outputs": [
    {
     "data": {
      "text/plain": [
       "True"
      ]
     },
     "execution_count": 7,
     "metadata": {},
     "output_type": "execute_result"
    }
   ],
   "source": [
    "voisines(2,4,R)"
   ]
  },
  {
   "cell_type": "code",
   "execution_count": 8,
   "metadata": {},
   "outputs": [
    {
     "data": {
      "text/plain": [
       "False"
      ]
     },
     "execution_count": 8,
     "metadata": {},
     "output_type": "execute_result"
    }
   ],
   "source": [
    "voisines(3,5,R)"
   ]
  },
  {
   "cell_type": "markdown",
   "metadata": {},
   "source": [
    "**Q4/** Écrire la fonction **list_voisines(i,R)**, qui reçoit en paramètres une ville $i$ d'un réseau routier représenté par la matrice symétrique $R$. La fonction renvoie la liste de toutes les villes voisines à la ville $i$."
   ]
  },
  {
   "cell_type": "code",
   "execution_count": 9,
   "metadata": {},
   "outputs": [],
   "source": [
    "def list_voisines (i, R):\n",
    "    return [j for j in range(len(R[i])) if voisines(i,j,R)]"
   ]
  },
  {
   "cell_type": "markdown",
   "metadata": {},
   "source": [
    "**Exemple:**"
   ]
  },
  {
   "cell_type": "code",
   "execution_count": 10,
   "metadata": {},
   "outputs": [
    {
     "data": {
      "text/plain": [
       "[0, 2, 4, 6, 7]"
      ]
     },
     "execution_count": 10,
     "metadata": {},
     "output_type": "execute_result"
    }
   ],
   "source": [
    "list_voisines (3, R)"
   ]
  },
  {
   "cell_type": "markdown",
   "metadata": {},
   "source": [
    "Dans un réseau routier, le degré d'une ville $i$ est le nombre de villes voisines à la ville $i$.\n",
    "\n",
    "**Q5/** Écrire la fonction **degre(i,R)**, qui reçoit en paramètres une ville $i$ d'un réseau routier représenté par la matrice symétrique $R$. La fonction renvoie le degré de la ville $i$."
   ]
  },
  {
   "cell_type": "code",
   "execution_count": 11,
   "metadata": {},
   "outputs": [],
   "source": [
    "def degre(i,R):\n",
    "    return len(list_voisines(i,R))"
   ]
  },
  {
   "cell_type": "markdown",
   "metadata": {},
   "source": [
    "**Exemple:**"
   ]
  },
  {
   "cell_type": "code",
   "execution_count": 12,
   "metadata": {},
   "outputs": [
    {
     "data": {
      "text/plain": [
       "5"
      ]
     },
     "execution_count": 12,
     "metadata": {},
     "output_type": "execute_result"
    }
   ],
   "source": [
    "degre (3, R)"
   ]
  },
  {
   "cell_type": "code",
   "execution_count": 13,
   "metadata": {},
   "outputs": [
    {
     "data": {
      "text/plain": [
       "4"
      ]
     },
     "execution_count": 13,
     "metadata": {},
     "output_type": "execute_result"
    }
   ],
   "source": [
    "degre (2, R)"
   ]
  },
  {
   "cell_type": "markdown",
   "metadata": {},
   "source": [
    "**Q6/** Écrire la fonction **liste_degres(R)**, qui reçoit en paramètre la matrice symétrique $R$ représentant un réseau routier. La fonction renvoie une liste $D$ contenant des tuples. Chaque tuple de $D$ est composé de deux éléments : une ville du réseau routier, et le degré de cette ville.\n",
    "\n",
    "**Exemple:**\n",
    "- liste_degres (R) renvoie la la liste \n",
    "[ (0 , 3) , (1 , 3) , (2 , 4) , (3 , 5) , (4 , 5) , ( 5, 3) , (6 , 4) , (7 , 3) ]"
   ]
  },
  {
   "cell_type": "code",
   "execution_count": 14,
   "metadata": {},
   "outputs": [],
   "source": [
    "def liste_degres(R):\n",
    "    return [(i,degre(i,R)) for i in range(len(R))]"
   ]
  },
  {
   "cell_type": "code",
   "execution_count": 15,
   "metadata": {},
   "outputs": [
    {
     "data": {
      "text/plain": [
       "[(0, 3), (1, 3), (2, 4), (3, 5), (4, 5), (5, 3), (6, 4), (7, 3)]"
      ]
     },
     "execution_count": 15,
     "metadata": {},
     "output_type": "execute_result"
    }
   ],
   "source": [
    "liste_degres(R)"
   ]
  },
  {
   "cell_type": "markdown",
   "metadata": {},
   "source": [
    "**Q7/** Écrire la fonction **tri_degres(D)**, qui reçoit en paramètre la liste $D$ des degrés des villes. La fonction trie les tuples de la liste $D$ dans l'ordre décroissant des degrés des villes.\n",
    "\n",
    "**Exemple:**\n",
    "\n",
    "- Si D=[ (0 , 3) , (1 , 3) , (2 , 4) , (3 , 5) , (4 , 5) , ( 5, 3) , (6 , 4) , (7 , 3) ]\n",
    "\n",
    "- alors **tri_degres (D)** renvoie par exemple :\n",
    "\n",
    "[ (3 , 5) , (4 , 5) , (2 , 4) , (6 , 4) , (0 , 3) , (5 , 3) , (1 , 3) , (7 , 3) ]"
   ]
  },
  {
   "cell_type": "code",
   "execution_count": 16,
   "metadata": {},
   "outputs": [],
   "source": [
    "def tri_degres(D):\n",
    "    L = []\n",
    "    degs = [deg[1] for deg in D]\n",
    "    m = 1\n",
    "    while len(degs) != 0:\n",
    "        m = max(degs)\n",
    "        for R in D:\n",
    "            if m == R[1]:\n",
    "                L.append(R)\n",
    "                degs.remove(max(degs))\n",
    "    return L"
   ]
  },
  {
   "cell_type": "code",
   "execution_count": 17,
   "metadata": {},
   "outputs": [
    {
     "data": {
      "text/plain": [
       "[(3, 5), (4, 5), (2, 4), (6, 4), (0, 3), (1, 3), (5, 3), (7, 3)]"
      ]
     },
     "execution_count": 17,
     "metadata": {},
     "output_type": "execute_result"
    }
   ],
   "source": [
    "D=[ (0 , 3) , (1 , 3) , (2 , 4) , (3 , 5) , (4 , 5) , ( 5, 3) , (6 , 4) , (7 , 3) ]\n",
    "tri_degres(D)"
   ]
  },
  {
   "cell_type": "markdown",
   "metadata": {},
   "source": [
    "**Q8/** Écrire la fonction **tri_villes(R)**, qui reçoit en paramètre la matrice symétrique $R$ représentant un réseau routier. La fonction renvoie la liste des villes triées dans l'ordre décroissant des degrés des villes.\n",
    "\n",
    "**Exemple:**\n",
    "- tri_villes (R) renvoie par exemple\n",
    "\n",
    "[3,4,2,6,0,5,1,7]"
   ]
  },
  {
   "cell_type": "code",
   "execution_count": 18,
   "metadata": {},
   "outputs": [],
   "source": [
    "def tri_villes(R):\n",
    "\n",
    "    return [V[0] for V in tri_degres(liste_degres(R))]"
   ]
  },
  {
   "cell_type": "code",
   "execution_count": 19,
   "metadata": {},
   "outputs": [
    {
     "data": {
      "text/plain": [
       "[3, 4, 2, 6, 0, 1, 5, 7]"
      ]
     },
     "execution_count": 19,
     "metadata": {},
     "output_type": "execute_result"
    }
   ],
   "source": [
    "tri_villes(R)\n"
   ]
  },
  {
   "cell_type": "markdown",
   "metadata": {},
   "source": [
    "#### Chemins dans un réseau routier"
   ]
  },
  {
   "cell_type": "markdown",
   "metadata": {},
   "source": [
    "Dans un réseau routier, un **chemin** est un tuple **T** qui contient des villes du réseau, et qui satisfait les deux conditions suivantes :\n",
    "\n",
    "- **condition 1:** Le tuple T contient au moins deux villes du réseau routier;\n",
    "- **condition 2:** Deux villes consécutives dans T sont voisines."
   ]
  },
  {
   "cell_type": "markdown",
   "metadata": {},
   "source": [
    "**Q9/** Écrire la fonction **chemin_valide(T,R)**, qui reçoit en paramètres un tuple **T** contenant des villes du réseau routier représenté par la matrice symétrique **R**. La fonction renvoie **True** si le tuple T satisfait les deux conditions 1 et 2 citées ci-dessus, sinon, la fonction renvoie **False**."
   ]
  },
  {
   "cell_type": "markdown",
   "metadata": {},
   "source": [
    "**Exemple :**\n",
    "- chemin_valide((2,0,1,4,3),R) renvoie **True**\n",
    "- chemin_valide((3,1,4,7),R) renvoie **False**"
   ]
  },
  {
   "cell_type": "code",
   "execution_count": 20,
   "metadata": {},
   "outputs": [],
   "source": [
    "def chemin_valide(T, R):\n",
    "    if len(T) < 2:\n",
    "        return False\n",
    "    else:\n",
    "        return False not in [False for i in range(len(T)-1) if not voisines(T[i],T[i+1],R)]"
   ]
  },
  {
   "cell_type": "code",
   "execution_count": 21,
   "metadata": {},
   "outputs": [
    {
     "data": {
      "text/plain": [
       "True"
      ]
     },
     "execution_count": 21,
     "metadata": {},
     "output_type": "execute_result"
    }
   ],
   "source": [
    "chemin_valide((2,0,1,4,3),R)"
   ]
  },
  {
   "cell_type": "code",
   "execution_count": 22,
   "metadata": {},
   "outputs": [
    {
     "data": {
      "text/plain": [
       "False"
      ]
     },
     "execution_count": 22,
     "metadata": {},
     "output_type": "execute_result"
    }
   ],
   "source": [
    "chemin_valide((3,1,4,7),R)"
   ]
  },
  {
   "cell_type": "markdown",
   "metadata": {},
   "source": [
    "Dans un réseau routier, un chemin **simple** est un chemin qui passe **une seule fois** par la même ville."
   ]
  },
  {
   "cell_type": "markdown",
   "metadata": {},
   "source": [
    "**Q10/** Écrire la fonction **chemin_simple(T,R)**, qui reçoit en paramètres un chemin T dans un réseau routier représenté par la matrice symétrique R. La fonction renvoie **True** si le chemin T est un simple, sinon, la fonction renvoie **False**."
   ]
  },
  {
   "cell_type": "markdown",
   "metadata": {},
   "source": [
    "**Exemple :**\n",
    "- chemin_simple(( 2, 0, 1, 4, 3 ),R) renvoie **True**\n",
    "- chemin_simple(( 6, 7, 3, 4, 2, 3, 6, 5 ),R) renvoie **False**"
   ]
  },
  {
   "cell_type": "code",
   "execution_count": 23,
   "metadata": {},
   "outputs": [],
   "source": [
    "def chemin_simple(T,R):\n",
    "    return False not in[False for i in T if not (T.count(i) == 1 and chemin_valide(T,R))]"
   ]
  },
  {
   "cell_type": "code",
   "execution_count": 24,
   "metadata": {},
   "outputs": [
    {
     "data": {
      "text/plain": [
       "True"
      ]
     },
     "execution_count": 24,
     "metadata": {},
     "output_type": "execute_result"
    }
   ],
   "source": [
    "chemin_simple(( 2, 0, 1, 4, 3 ),R)"
   ]
  },
  {
   "cell_type": "code",
   "execution_count": 25,
   "metadata": {},
   "outputs": [
    {
     "data": {
      "text/plain": [
       "False"
      ]
     },
     "execution_count": 25,
     "metadata": {},
     "output_type": "execute_result"
    }
   ],
   "source": [
    "chemin_simple(( 6, 7, 3, 4, 2, 3, 6, 5 ),R)"
   ]
  },
  {
   "cell_type": "code",
   "execution_count": null,
   "metadata": {},
   "outputs": [],
   "source": []
  }
 ],
 "metadata": {
  "kernelspec": {
   "display_name": "Python 3",
   "language": "python",
   "name": "python3"
  },
  "language_info": {
   "codemirror_mode": {
    "name": "ipython",
    "version": 3
   },
   "file_extension": ".py",
   "mimetype": "text/x-python",
   "name": "python",
   "nbconvert_exporter": "python",
   "pygments_lexer": "ipython3",
   "version": "3.8.5"
  },
  "metadata": {
   "interpreter": {
    "hash": "9d7296c42b054d88ed280f54889aa69d0fd9d925298ae3259919f8cc3ff160c6"
   }
  }
 },
 "nbformat": 4,
 "nbformat_minor": 4
}
