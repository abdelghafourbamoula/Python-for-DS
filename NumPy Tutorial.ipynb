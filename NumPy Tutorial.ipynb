{
 "cells": [
  {
   "cell_type": "code",
   "execution_count": 1,
   "id": "7f4d7359",
   "metadata": {},
   "outputs": [
    {
     "data": {
      "text/plain": [
       "'1.20.2'"
      ]
     },
     "execution_count": 1,
     "metadata": {},
     "output_type": "execute_result"
    }
   ],
   "source": [
    "import numpy as np\n",
    "np.__version__"
   ]
  },
  {
   "cell_type": "code",
   "execution_count": 2,
   "id": "66ee9ece",
   "metadata": {},
   "outputs": [
    {
     "data": {
      "text/plain": [
       "array([0., 0., 0., 0., 0., 0., 0., 0., 0., 0.])"
      ]
     },
     "execution_count": 2,
     "metadata": {},
     "output_type": "execute_result"
    }
   ],
   "source": [
    "t = np.zeros(10)\n",
    "t"
   ]
  },
  {
   "cell_type": "code",
   "execution_count": 3,
   "id": "af4f635c",
   "metadata": {},
   "outputs": [
    {
     "data": {
      "text/plain": [
       "array([[0., 0., 0., 0., 0.],\n",
       "       [0., 0., 0., 0., 0.]])"
      ]
     },
     "execution_count": 3,
     "metadata": {},
     "output_type": "execute_result"
    }
   ],
   "source": [
    "t.shape = (2,5)\n",
    "t"
   ]
  },
  {
   "cell_type": "code",
   "execution_count": 4,
   "id": "686bb8de",
   "metadata": {},
   "outputs": [
    {
     "data": {
      "text/plain": [
       "array([1., 1., 1., 1., 1., 1., 1., 1., 1., 1.])"
      ]
     },
     "execution_count": 4,
     "metadata": {},
     "output_type": "execute_result"
    }
   ],
   "source": [
    "t = np.ones(10)\n",
    "t"
   ]
  },
  {
   "cell_type": "code",
   "execution_count": 5,
   "id": "7943323a",
   "metadata": {},
   "outputs": [
    {
     "data": {
      "text/plain": [
       "array([1., 1., 1., 1., 1., 1., 1., 1., 1., 1.])"
      ]
     },
     "execution_count": 5,
     "metadata": {},
     "output_type": "execute_result"
    }
   ],
   "source": [
    "t = np.empty(10)\n",
    "t"
   ]
  },
  {
   "cell_type": "code",
   "execution_count": 6,
   "id": "3baaa00f",
   "metadata": {},
   "outputs": [
    {
     "data": {
      "text/plain": [
       "array([ 1.  ,  3.25,  5.5 ,  7.75, 10.  ])"
      ]
     },
     "execution_count": 6,
     "metadata": {},
     "output_type": "execute_result"
    }
   ],
   "source": [
    "t = np.linspace(1,10,5)\n",
    "t"
   ]
  },
  {
   "cell_type": "code",
   "execution_count": 8,
   "id": "f941668f",
   "metadata": {},
   "outputs": [
    {
     "name": "stdout",
     "output_type": "stream",
     "text": [
      "Object `t #documenter sur 't'` not found.\n"
     ]
    }
   ],
   "source": [
    "?t #documenter sur 't'"
   ]
  },
  {
   "cell_type": "code",
   "execution_count": 9,
   "id": "413c7f47",
   "metadata": {},
   "outputs": [
    {
     "data": {
      "text/plain": [
       "array([[3, 4, 5, 6, 7, 9, 1, 0, 1]])"
      ]
     },
     "execution_count": 9,
     "metadata": {},
     "output_type": "execute_result"
    }
   ],
   "source": [
    "myList = [[3,4,5,6,7,9,1,0,1]]\n",
    "nt = np.array(myList)\n",
    "nt"
   ]
  },
  {
   "cell_type": "code",
   "execution_count": 10,
   "id": "6bf948fa",
   "metadata": {},
   "outputs": [
    {
     "data": {
      "text/plain": [
       "array([[3, 4, 5],\n",
       "       [6, 7, 9],\n",
       "       [1, 0, 1]])"
      ]
     },
     "execution_count": 10,
     "metadata": {},
     "output_type": "execute_result"
    }
   ],
   "source": [
    "nt.shape = (3,3)\n",
    "nt"
   ]
  },
  {
   "cell_type": "code",
   "execution_count": 11,
   "id": "4412024d",
   "metadata": {},
   "outputs": [
    {
     "data": {
      "text/plain": [
       "numpy.ndarray"
      ]
     },
     "execution_count": 11,
     "metadata": {},
     "output_type": "execute_result"
    }
   ],
   "source": [
    "type(nt)"
   ]
  },
  {
   "cell_type": "code",
   "execution_count": 12,
   "id": "2653961f",
   "metadata": {},
   "outputs": [
    {
     "data": {
      "text/plain": [
       "array([54, 48, 13, 84, 55, 91, 84, 86, 66, 12])"
      ]
     },
     "execution_count": 12,
     "metadata": {},
     "output_type": "execute_result"
    }
   ],
   "source": [
    "r = np.random.randint(100,size=10)\n",
    "r"
   ]
  },
  {
   "cell_type": "code",
   "execution_count": 13,
   "id": "baebb298",
   "metadata": {},
   "outputs": [
    {
     "data": {
      "text/plain": [
       "array([ True,  True, False,  True, False, False,  True,  True,  True,\n",
       "        True])"
      ]
     },
     "execution_count": 13,
     "metadata": {},
     "output_type": "execute_result"
    }
   ],
   "source": [
    "r%2==0"
   ]
  },
  {
   "cell_type": "code",
   "execution_count": 14,
   "id": "6ae8ef46",
   "metadata": {},
   "outputs": [
    {
     "data": {
      "text/plain": [
       "array([3, 4, 5, 6, 7, 9])"
      ]
     },
     "execution_count": 14,
     "metadata": {},
     "output_type": "execute_result"
    }
   ],
   "source": [
    "nt[nt>1]"
   ]
  },
  {
   "cell_type": "code",
   "execution_count": 15,
   "id": "64fc1ad4",
   "metadata": {},
   "outputs": [
    {
     "data": {
      "text/plain": [
       "array([[0, 0, 0],\n",
       "       [0, 0, 0],\n",
       "       [0, 1, 0]])"
      ]
     },
     "execution_count": 15,
     "metadata": {},
     "output_type": "execute_result"
    }
   ],
   "source": [
    "nt=np.where(nt==0,1,0)\n",
    "nt"
   ]
  },
  {
   "cell_type": "code",
   "execution_count": 16,
   "id": "8203d109",
   "metadata": {},
   "outputs": [
    {
     "data": {
      "text/plain": [
       "array([[0, 0, 0],\n",
       "       [0, 0, 0],\n",
       "       [0, 2, 0]])"
      ]
     },
     "execution_count": 16,
     "metadata": {},
     "output_type": "execute_result"
    }
   ],
   "source": [
    "nt*2"
   ]
  },
  {
   "cell_type": "code",
   "execution_count": 17,
   "id": "b8215967",
   "metadata": {},
   "outputs": [
    {
     "data": {
      "text/plain": [
       "array([[-1, -1, -1],\n",
       "       [-1, -1, -1],\n",
       "       [-1,  0, -1]])"
      ]
     },
     "execution_count": 17,
     "metadata": {},
     "output_type": "execute_result"
    }
   ],
   "source": [
    "nt-1"
   ]
  },
  {
   "cell_type": "code",
   "execution_count": 18,
   "id": "82d3da2f",
   "metadata": {},
   "outputs": [
    {
     "data": {
      "text/plain": [
       "array([[3, 4, 5],\n",
       "       [6, 7, 9],\n",
       "       [1, 1, 1]])"
      ]
     },
     "execution_count": 18,
     "metadata": {},
     "output_type": "execute_result"
    }
   ],
   "source": [
    "nt = nt+np.array(myList).reshape(3,3)\n",
    "nt"
   ]
  },
  {
   "cell_type": "code",
   "execution_count": 19,
   "id": "b65226c9",
   "metadata": {},
   "outputs": [
    {
     "data": {
      "text/plain": [
       "2"
      ]
     },
     "execution_count": 19,
     "metadata": {},
     "output_type": "execute_result"
    }
   ],
   "source": [
    "nt.ndim  #le nbr de demension"
   ]
  },
  {
   "cell_type": "code",
   "execution_count": 20,
   "id": "26fe8b82",
   "metadata": {},
   "outputs": [
    {
     "data": {
      "text/plain": [
       "3"
      ]
     },
     "execution_count": 20,
     "metadata": {},
     "output_type": "execute_result"
    }
   ],
   "source": [
    "tip = np.array((1,2,3))\n",
    "len(tip)"
   ]
  },
  {
   "cell_type": "code",
   "execution_count": 21,
   "id": "9d66e7e1",
   "metadata": {},
   "outputs": [
    {
     "data": {
      "text/plain": [
       "array([1, 2, 3])"
      ]
     },
     "execution_count": 21,
     "metadata": {},
     "output_type": "execute_result"
    }
   ],
   "source": [
    "tip"
   ]
  },
  {
   "cell_type": "code",
   "execution_count": 22,
   "id": "737c87a5",
   "metadata": {},
   "outputs": [
    {
     "data": {
      "text/plain": [
       "array([[[1, 2, 3]]])"
      ]
     },
     "execution_count": 22,
     "metadata": {},
     "output_type": "execute_result"
    }
   ],
   "source": [
    "tip = np.array(tip, ndmin=3)\n",
    "tip"
   ]
  },
  {
   "cell_type": "code",
   "execution_count": 23,
   "id": "c6935c0a",
   "metadata": {},
   "outputs": [
    {
     "data": {
      "text/plain": [
       "dtype('int64')"
      ]
     },
     "execution_count": 23,
     "metadata": {},
     "output_type": "execute_result"
    }
   ],
   "source": [
    "tip.dtype"
   ]
  },
  {
   "cell_type": "code",
   "execution_count": 24,
   "id": "c5f06832",
   "metadata": {},
   "outputs": [
    {
     "data": {
      "text/plain": [
       "array([[ True,  True,  True],\n",
       "       [ True,  True,  True],\n",
       "       [ True,  True,  True]])"
      ]
     },
     "execution_count": 24,
     "metadata": {},
     "output_type": "execute_result"
    }
   ],
   "source": [
    "t = np.full((3,3),True,dtype=bool)\n",
    "t"
   ]
  },
  {
   "cell_type": "code",
   "execution_count": 25,
   "id": "8453bb80",
   "metadata": {},
   "outputs": [
    {
     "data": {
      "text/plain": [
       "array([[-1., -1., -1., -1., -1., -1., -1., -1., -1.]], dtype=float32)"
      ]
     },
     "execution_count": 25,
     "metadata": {},
     "output_type": "execute_result"
    }
   ],
   "source": [
    "t = np.full_like(myList,-1,dtype=\"f\")\n",
    "t"
   ]
  },
  {
   "cell_type": "code",
   "execution_count": 26,
   "id": "5aae9805",
   "metadata": {},
   "outputs": [
    {
     "data": {
      "text/plain": [
       "array([ 0,  2,  4,  6,  8, 10, 12, 14, 16, 18])"
      ]
     },
     "execution_count": 26,
     "metadata": {},
     "output_type": "execute_result"
    }
   ],
   "source": [
    "t1=np.arange(0,20,2).reshape(2,5)\n",
    "t1.reshape(-1)"
   ]
  },
  {
   "cell_type": "code",
   "execution_count": 27,
   "id": "ab10dd6f",
   "metadata": {},
   "outputs": [
    {
     "data": {
      "text/plain": [
       "array([[1., 0., 0.],\n",
       "       [0., 1., 0.],\n",
       "       [0., 0., 1.]])"
      ]
     },
     "execution_count": 27,
     "metadata": {},
     "output_type": "execute_result"
    }
   ],
   "source": [
    "np.identity(3)"
   ]
  },
  {
   "cell_type": "code",
   "execution_count": 28,
   "id": "1bfcc2b5",
   "metadata": {},
   "outputs": [
    {
     "data": {
      "text/plain": [
       "array([[1, 0],\n",
       "       [0, 1]], dtype=int32)"
      ]
     },
     "execution_count": 28,
     "metadata": {},
     "output_type": "execute_result"
    }
   ],
   "source": [
    "np.eye(2, dtype='i')"
   ]
  },
  {
   "cell_type": "code",
   "execution_count": 29,
   "id": "1de151a8",
   "metadata": {},
   "outputs": [
    {
     "data": {
      "text/plain": [
       "array([[1., 0., 0., 0.],\n",
       "       [0., 1., 0., 0.],\n",
       "       [0., 0., 1., 0.]])"
      ]
     },
     "execution_count": 29,
     "metadata": {},
     "output_type": "execute_result"
    }
   ],
   "source": [
    "np.eye(3,4)"
   ]
  },
  {
   "cell_type": "code",
   "execution_count": 30,
   "id": "397bb1b9",
   "metadata": {},
   "outputs": [
    {
     "data": {
      "text/plain": [
       "array([[0., 1., 0., 0.],\n",
       "       [0., 0., 1., 0.],\n",
       "       [0., 0., 0., 1.]])"
      ]
     },
     "execution_count": 30,
     "metadata": {},
     "output_type": "execute_result"
    }
   ],
   "source": [
    "np.eye(3,4,1)"
   ]
  },
  {
   "cell_type": "code",
   "execution_count": 31,
   "id": "a3778053",
   "metadata": {},
   "outputs": [],
   "source": [
    "t1 = np.fromfunction(lambda i,j: i*j, (3,2))"
   ]
  },
  {
   "cell_type": "code",
   "execution_count": 32,
   "id": "b80eab7c",
   "metadata": {},
   "outputs": [
    {
     "name": "stdout",
     "output_type": "stream",
     "text": [
      "0.0\n",
      "0.0\n",
      "0.0\n",
      "1.0\n",
      "0.0\n",
      "2.0\n"
     ]
    }
   ],
   "source": [
    "for e in np.nditer(t1):\n",
    "    print(e)"
   ]
  },
  {
   "cell_type": "code",
   "execution_count": 33,
   "id": "b5afa463",
   "metadata": {},
   "outputs": [
    {
     "data": {
      "text/plain": [
       "array([28, 26, 24, 22, 20, 18, 16, 14, 12])"
      ]
     },
     "execution_count": 33,
     "metadata": {},
     "output_type": "execute_result"
    }
   ],
   "source": [
    "np.arange(12,29,2)[::-1]"
   ]
  },
  {
   "cell_type": "code",
   "execution_count": 34,
   "id": "424d5e44",
   "metadata": {},
   "outputs": [],
   "source": [
    "def f(n):\n",
    "    return np.eye(n,n)*n + np.eye(n,n,1) + np.eye(n,n,-1)"
   ]
  },
  {
   "cell_type": "code",
   "execution_count": 35,
   "id": "7b432120",
   "metadata": {},
   "outputs": [
    {
     "data": {
      "text/plain": [
       "array([[4., 1., 0., 0.],\n",
       "       [1., 4., 1., 0.],\n",
       "       [0., 1., 4., 1.],\n",
       "       [0., 0., 1., 4.]])"
      ]
     },
     "execution_count": 35,
     "metadata": {},
     "output_type": "execute_result"
    }
   ],
   "source": [
    "f(4)"
   ]
  },
  {
   "cell_type": "code",
   "execution_count": 36,
   "id": "4178f6bc",
   "metadata": {},
   "outputs": [],
   "source": [
    "def f2(n):\n",
    "    return sum(np.arange(1,n+1))"
   ]
  },
  {
   "cell_type": "code",
   "execution_count": 37,
   "id": "71efab05",
   "metadata": {},
   "outputs": [
    {
     "data": {
      "text/plain": [
       "45"
      ]
     },
     "execution_count": 37,
     "metadata": {},
     "output_type": "execute_result"
    }
   ],
   "source": [
    "f2(9)"
   ]
  },
  {
   "cell_type": "code",
   "execution_count": 38,
   "id": "d1687ab1",
   "metadata": {},
   "outputs": [
    {
     "data": {
      "text/plain": [
       "array([0, 0, 0, 0, 0, 0, 0, 0, 0, 0, 0, 0, 0, 0, 0, 0, 0, 0, 0, 0, 0, 0,\n",
       "       0, 0, 0, 0, 0, 0, 0, 0, 0, 0, 0, 0, 0, 0, 0, 0, 0, 0, 0, 0, 0, 0,\n",
       "       0, 0, 0, 0, 0, 0], dtype=int32)"
      ]
     },
     "execution_count": 38,
     "metadata": {},
     "output_type": "execute_result"
    }
   ],
   "source": [
    "np.linspace(1,36, dtype='i')*0"
   ]
  },
  {
   "cell_type": "code",
   "execution_count": 39,
   "id": "0ed08a43",
   "metadata": {},
   "outputs": [
    {
     "data": {
      "text/plain": [
       "array([[228037,     56,      1,      0],\n",
       "       [105192,     75,      2,      1],\n",
       "       [150057,    100,      2,      1],\n",
       "       [209259,     70,      3,      0],\n",
       "       [173349,     68,      1,      1],\n",
       "       [217583,     61,      3,      0],\n",
       "       [121440,     78,      2,      0],\n",
       "       [251681,     79,      2,      0],\n",
       "       [280172,     64,      2,      0],\n",
       "       [238823,    100,      2,      1]])"
      ]
     },
     "execution_count": 39,
     "metadata": {},
     "output_type": "execute_result"
    }
   ],
   "source": [
    "np.random.seed(1)\n",
    "prix=np.random.randint(100000,300000,[10,1])\n",
    "surface=np.random.randint(50,120,[10,1])\n",
    "qualite=np.random.randint(1,4,[10,1])\n",
    "garage=np.random.randint(0,2,[10,1],dtype=bool)\n",
    "appartements=np.hstack([prix,surface,qualite,garage])\n",
    "appartements"
   ]
  },
  {
   "cell_type": "markdown",
   "id": "376aa5cd",
   "metadata": {},
   "source": [
    "1. Calculer le maximum par rapport à chaque entité (prix, surface et qualité)\n",
    "2. Afficher l'indice de la surface minimale\n",
    "3. Affecter à l'appartemen ayant la surface minimale le prix minimum."
   ]
  },
  {
   "cell_type": "code",
   "execution_count": 40,
   "id": "1d7ad00e",
   "metadata": {},
   "outputs": [
    {
     "data": {
      "text/plain": [
       "array([280172,    100,      3,      1])"
      ]
     },
     "execution_count": 40,
     "metadata": {},
     "output_type": "execute_result"
    }
   ],
   "source": [
    "appartements.max(axis=0)"
   ]
  },
  {
   "cell_type": "code",
   "execution_count": 41,
   "id": "13ea4033",
   "metadata": {},
   "outputs": [
    {
     "data": {
      "text/plain": [
       "1"
      ]
     },
     "execution_count": 41,
     "metadata": {},
     "output_type": "execute_result"
    }
   ],
   "source": [
    "appartements.argmin(axis=0)[0]"
   ]
  },
  {
   "cell_type": "code",
   "execution_count": 42,
   "id": "3b60d4e1",
   "metadata": {},
   "outputs": [
    {
     "data": {
      "text/plain": [
       "array([[3, 4, 5],\n",
       "       [6, 7, 9],\n",
       "       [1, 1, 1]])"
      ]
     },
     "execution_count": 42,
     "metadata": {},
     "output_type": "execute_result"
    }
   ],
   "source": [
    "nt"
   ]
  },
  {
   "cell_type": "code",
   "execution_count": 43,
   "id": "2a27623b",
   "metadata": {},
   "outputs": [
    {
     "data": {
      "text/plain": [
       "array([[1, 4, 5],\n",
       "       [6, 1, 9],\n",
       "       [1, 1, 1]])"
      ]
     },
     "execution_count": 43,
     "metadata": {},
     "output_type": "execute_result"
    }
   ],
   "source": [
    "np.fill_diagonal(nt,1)\n",
    "nt"
   ]
  },
  {
   "cell_type": "code",
   "execution_count": 64,
   "id": "83c91cbe",
   "metadata": {},
   "outputs": [
    {
     "data": {
      "text/plain": [
       "[array([[1, 4, 5]]), array([[6, 1, 9]]), array([[1, 1, 1]])]"
      ]
     },
     "execution_count": 64,
     "metadata": {},
     "output_type": "execute_result"
    }
   ],
   "source": [
    "np.array_split(nt,3)"
   ]
  },
  {
   "cell_type": "code",
   "execution_count": 68,
   "id": "2026faf8",
   "metadata": {},
   "outputs": [
    {
     "data": {
      "text/plain": [
       "array([[1, 4, 5],\n",
       "       [1, 6, 9],\n",
       "       [1, 1, 1]])"
      ]
     },
     "execution_count": 68,
     "metadata": {},
     "output_type": "execute_result"
    }
   ],
   "source": [
    "np.sort(nt)"
   ]
  },
  {
   "cell_type": "code",
   "execution_count": null,
   "id": "0bf838d9",
   "metadata": {},
   "outputs": [],
   "source": []
  },
  {
   "cell_type": "code",
   "execution_count": null,
   "id": "e8471c43",
   "metadata": {},
   "outputs": [],
   "source": []
  },
  {
   "cell_type": "code",
   "execution_count": null,
   "id": "5da230bf",
   "metadata": {},
   "outputs": [],
   "source": []
  }
 ],
 "metadata": {
  "kernelspec": {
   "display_name": "Python 3",
   "language": "python",
   "name": "python3"
  },
  "language_info": {
   "codemirror_mode": {
    "name": "ipython",
    "version": 3
   },
   "file_extension": ".py",
   "mimetype": "text/x-python",
   "name": "python",
   "nbconvert_exporter": "python",
   "pygments_lexer": "ipython3",
   "version": "3.8.5"
  }
 },
 "nbformat": 4,
 "nbformat_minor": 5
}
