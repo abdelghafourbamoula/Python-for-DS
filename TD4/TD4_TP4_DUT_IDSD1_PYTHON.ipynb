{
 "cells": [
  {
   "cell_type": "markdown",
   "metadata": {},
   "source": [
    "**Exercice 1:**<br>\n",
    "1. Écrire une fonction **identiques()** qui permet de tester si deux fichiers sont identiques. Les noms sont saisis au clavier."
   ]
  },
  {
   "cell_type": "code",
   "execution_count": 1,
   "metadata": {},
   "outputs": [],
   "source": [
    "def identiques():\n",
    "    f1 = open(input(\"Donner ne nom de ficier 1:\"),'r')\n",
    "    f2= open(input(\"Donner ne nom de ficier 2:\"),'r')\n",
    "    L1,L2 = f1.readlines(),f2.readlines()\n",
    "    f1.close()\n",
    "    f2.close()\n",
    "    if len(L1) != len(L2): return False \n",
    "    for i in range(len(L1)):\n",
    "        if L1[i] != L2[i] : return False \n",
    "\n",
    "    return True"
   ]
  },
  {
   "cell_type": "code",
   "execution_count": 2,
   "metadata": {},
   "outputs": [
    {
     "name": "stdout",
     "output_type": "stream",
     "text": [
      "Donner ne nom de ficier 1:fichiers/mat.txt\n",
      "Donner ne nom de ficier 2:fichiers/mat.txt\n"
     ]
    },
    {
     "data": {
      "text/plain": [
       "True"
      ]
     },
     "execution_count": 2,
     "metadata": {},
     "output_type": "execute_result"
    }
   ],
   "source": [
    "identiques()"
   ]
  },
  {
   "cell_type": "markdown",
   "metadata": {},
   "source": [
    "2. Écrire une fonction **fusion_fichiers()** qui permet de fusionner deux fichiers dont les noms sont saisis au clavier."
   ]
  },
  {
   "cell_type": "code",
   "execution_count": 16,
   "metadata": {},
   "outputs": [],
   "source": [
    "def fusion_fichiers():\n",
    "    f1 = open(input(\"Donner ne nom de ficier source:\"), 'r')\n",
    "    f2= open(input(\"Donner ne nom de ficier que vou pouvez fusionner: \"),'a')\n",
    "    for line in f1:\n",
    "        f2.write(line+'\\n')\n",
    "    f1.close()\n",
    "    f2.close()"
   ]
  },
  {
   "cell_type": "code",
   "execution_count": 18,
   "metadata": {},
   "outputs": [
    {
     "name": "stdout",
     "output_type": "stream",
     "text": [
      "Donner ne nom de ficier source:text1.txt\n",
      "Donner ne nom de ficier que vou pouvez fusionner: tex2.txt\n"
     ]
    }
   ],
   "source": [
    "fusion_fichiers()"
   ]
  },
  {
   "cell_type": "code",
   "execution_count": 21,
   "metadata": {},
   "outputs": [
    {
     "name": "stdout",
     "output_type": "stream",
     "text": [
      "ce chose doit fusionner au fichier2 \r\n",
      "apers lexecutopmnlgdf\r\n"
     ]
    }
   ],
   "source": [
    "!more \"text2.txt\""
   ]
  },
  {
   "cell_type": "markdown",
   "metadata": {},
   "source": [
    "**Exercice 2: Matrice stockée dans un fichiers texte**<br>\n",
    "On suppose avoir crée un fichier texte contenant une matrice. Chaque ligne du fichier une ligne de la matrice, et les éléments de chaque ligne sont séparés par le caractère espace.<br>\n",
    "**Exemple :**\n",
    "<center>\n",
    "<img src='mat.jpg' width=50% height=50%/>\n",
    "</center>"
   ]
  },
  {
   "cell_type": "markdown",
   "metadata": {},
   "source": [
    "1. Écrire une fonction **RecupererMatrice(ch)** qui prend en paramètre une chaine de caractères **ch** qui contient le chemin absolu du fichier texte contenant une matrice et qui retourne la matrice sous forme de liste des listes."
   ]
  },
  {
   "cell_type": "code",
   "execution_count": 29,
   "metadata": {},
   "outputs": [],
   "source": [
    "def RecupererMatrice(ch):\n",
    "    with open(ch,\"r\") as f:\n",
    "        return [[eval(n) for n in line.split(\" \")[:-1]] for line in f]"
   ]
  },
  {
   "cell_type": "code",
   "execution_count": 30,
   "metadata": {},
   "outputs": [
    {
     "data": {
      "text/plain": [
       "[[3, 5, 6.4], [4.5, 5, 7], [3, 5, 9]]"
      ]
     },
     "execution_count": 30,
     "metadata": {},
     "output_type": "execute_result"
    }
   ],
   "source": [
    "RecupererMatrice(\"fichiers/mat.txt\")"
   ]
  },
  {
   "cell_type": "markdown",
   "metadata": {},
   "source": [
    "2. Écrire une fonction **TransposeMatrice(ch)** qui prend en paramètre une chaine de caractères **ch** qui contient le chemin absolu du fichier texte contenant une matrice. Cette calcule le transpose de la matrice et enregistre le résultat dans un fichier texte **'transposeM.txt'**."
   ]
  },
  {
   "cell_type": "code",
   "execution_count": 31,
   "metadata": {},
   "outputs": [],
   "source": [
    "from pickle import*\n",
    "def TransposeMatrice(ch):\n",
    "    mat  = RecupererMatrice(ch)\n",
    "    with open(\"fichiers/mtransposeM.txt\", \"w\") as f:\n",
    "        for i in range(len(mat)):\n",
    "            for j in range(len(mat[i])):\n",
    "                f.write(str(mat[j][i])+\" \")\n",
    "            f.write(\"\\n\")"
   ]
  },
  {
   "cell_type": "code",
   "execution_count": 32,
   "metadata": {},
   "outputs": [],
   "source": [
    "TransposeMatrice(\"fichiers/mat.txt\")"
   ]
  },
  {
   "cell_type": "code",
   "execution_count": 34,
   "metadata": {},
   "outputs": [
    {
     "name": "stdout",
     "output_type": "stream",
     "text": [
      "3 4.5 3 \r\n",
      "5 5 5 \r\n",
      "6.4 7 9 \r\n"
     ]
    }
   ],
   "source": [
    "!more \"fichiers/mtransposeM.txt\""
   ]
  },
  {
   "cell_type": "markdown",
   "metadata": {},
   "source": [
    "**Exercice 3:** <br>\n",
    "Soit un fichier intitulé **'concours.dat'** qui comporte les enregistrements relatifs aux candidats d'un concours. Chaque enregistrement est composé de : **ncin, nom, prenom, age,notes, moyG, decision**<br>\n",
    "\n",
    "Le chaamps **note** se compose de trois notes et le champs **decision** prend les valeurs suivantes :\n",
    "- **admis** si Moy_gen>=12,\n",
    "- **refusé** si 6<= Moy_gen<12,\n",
    "- **ajourné** sinon."
   ]
  },
  {
   "cell_type": "markdown",
   "metadata": {},
   "source": [
    "1. Définir la fonction **saisir_un_etudiant()** qui permet de remplir les données relatives à un seul condidat sous forme d'un dictionnaire dans le fichier 'concours.dat'"
   ]
  },
  {
   "cell_type": "code",
   "execution_count": 1,
   "metadata": {},
   "outputs": [],
   "source": [
    "from pickle import *\n",
    "def saisir_un_etudiant():\n",
    "    condidat = {}\n",
    "    condidat[\"ncin\"] = input(\"Donner le CIN: \")\n",
    "    condidat[\"nom\"] = input(\"Donner le NOM: \")    \n",
    "    condidat[\"prenom\"] = input(\"Donner le PRENOM: \")    \n",
    "    condidat[\"age\"] = input(\"Donner l'AGE: \")    \n",
    "    condidat[\"notes\"] = [eval(i) for i in list(input(\"Donner les trois notes: \").split(\" \"))]\n",
    "    condidat[\"MoyG\"] = sum(condidat[\"notes\"])/3 \n",
    "    condidat[\"decision\"] = \"admis\" if condidat[\"MoyG\"]>=12 else \"ajourne\" if condidat[\"MoyG\"]<6 else \"refuse\"\n",
    "    with open(\"concours.dat\",\"ab\") as f:\n",
    "        dump(condidat,f)"
   ]
  },
  {
   "cell_type": "code",
   "execution_count": 20,
   "metadata": {},
   "outputs": [
    {
     "name": "stdout",
     "output_type": "stream",
     "text": [
      "Donner le CIN: et456547\n",
      "Donner le NOM: rfse\n",
      "Donner le PRENOM: sfds\n",
      "Donner l'AGE: 45\n",
      "Donner les trois notes: 5 6 2\n"
     ]
    }
   ],
   "source": [
    "saisir_un_etudiant()"
   ]
  },
  {
   "cell_type": "markdown",
   "metadata": {},
   "source": [
    "2. Ecrire une fonction **saisir(N)** qui permet de remplir les données relatives à N condidats dans le fichier 'concours.dat'"
   ]
  },
  {
   "cell_type": "code",
   "execution_count": 14,
   "metadata": {},
   "outputs": [],
   "source": [
    "def saisir(N):\n",
    "    with open(\"concours.dat\",\"ab\") as f:\n",
    "        for i in range(N):\n",
    "            print(\"--------------------- Condidat n \"+str(i+1))\n",
    "            saisir_un_etudiant()"
   ]
  },
  {
   "cell_type": "code",
   "execution_count": 15,
   "metadata": {},
   "outputs": [
    {
     "name": "stdout",
     "output_type": "stream",
     "text": [
      "--------------------- Condidat n 1\n",
      "Donner le CIN: Pt7673\n",
      "Donner le NOM: Aya\n",
      "Donner le PRENOM: toto\n",
      "Donner l'AGE: 19\n",
      "Donner les trois notes: 16.5 17.5 15\n",
      "--------------------- Condidat n 2\n",
      "Donner le CIN: said\n",
      "Donner le NOM: souad\n",
      "Donner le PRENOM: souad\n",
      "Donner l'AGE: 18\n",
      "Donner les trois notes: 12 8 10\n"
     ]
    }
   ],
   "source": [
    "saisir(2)"
   ]
  },
  {
   "cell_type": "markdown",
   "metadata": {},
   "source": [
    "3. Ecrire une fonction **recherche_par_decision(decision)** qui permet de retourner une liste contenant les condidats ayant la decision **decision** s'il existe dans le fichier **concours.dat**."
   ]
  },
  {
   "cell_type": "code",
   "execution_count": 4,
   "metadata": {},
   "outputs": [],
   "source": [
    "def recherche_par_decision(decision):\n",
    "    L = []\n",
    "    with open(\"concours.dat\",\"rb\") as f:\n",
    "        condidat = 1\n",
    "        while condidat !=\"\":\n",
    "            try:\n",
    "                condidat = load(f)\n",
    "                if condidat[\"decision\"] == \"admis\":\n",
    "                    L.append(condidat)\n",
    "            except: break\n",
    "    return L"
   ]
  },
  {
   "cell_type": "code",
   "execution_count": 5,
   "metadata": {},
   "outputs": [
    {
     "data": {
      "text/plain": [
       "[{'ncin': 'PB344',\n",
       "  'nom': 'reda',\n",
       "  'prenom': 'reddod',\n",
       "  'age': '20',\n",
       "  'notes': [16, 15, 17],\n",
       "  'MoyG': 16.0,\n",
       "  'decision': 'admis'},\n",
       " {'ncin': 'Pt7673',\n",
       "  'nom': 'Aya',\n",
       "  'prenom': 'toto',\n",
       "  'age': '19',\n",
       "  'notes': [16.5, 17.5, 15],\n",
       "  'MoyG': 16.333333333333332,\n",
       "  'decision': 'admis'}]"
      ]
     },
     "execution_count": 5,
     "metadata": {},
     "output_type": "execute_result"
    }
   ],
   "source": [
    "recherche_par_decision('admis')"
   ]
  },
  {
   "cell_type": "markdown",
   "metadata": {},
   "source": [
    "4. Définir la fonction **admis()** qui permet créer le fichier **'admis.txt'** comportant les données (nom, prenom et moyG) relatives aux candidat admis mais classés par ordre de mérite"
   ]
  },
  {
   "cell_type": "code",
   "execution_count": 45,
   "metadata": {},
   "outputs": [],
   "source": [
    "def admis():\n",
    "    admis = recherche_par_decision('admis')\n",
    "    with open(\"admis.txt\", 'w') as f:\n",
    "        for condidat in admis:\n",
    "            f.write(\"nom:{} - prenom:{} - MoyG:{}\\n\".format(condidat[\"nom\"],condidat[\"prenom\"],condidat[\"MoyG\"]))"
   ]
  },
  {
   "cell_type": "code",
   "execution_count": 46,
   "metadata": {},
   "outputs": [
    {
     "name": "stdout",
     "output_type": "stream",
     "text": [
      "nom:reda - prenom:reddod - MoyG:16.0\r\n",
      "nom:Aya - prenom:toto - MoyG:16.333333333333332\r\n"
     ]
    }
   ],
   "source": [
    "admis()\n",
    "!more \"admis.txt\""
   ]
  },
  {
   "cell_type": "markdown",
   "metadata": {},
   "source": [
    "5. Afin de sélectionner en priorité les **10 premiers candidats admis**, créer la fonction **attente()** qui produira à partir du fichier **admis.txt**, deux nouveaux fichierx intitulé **admis10.txt** et **attente.txt** comportant les données relatives aux candidats admis mais leurs classement dépasse 10."
   ]
  },
  {
   "cell_type": "code",
   "execution_count": 48,
   "metadata": {},
   "outputs": [],
   "source": [
    "def attente():\n",
    "    with open(\"admis.txt\", \"r\") as f:\n",
    "        i = 0\n",
    "        for line in f:\n",
    "            with open(\"admis10.txt\", \"w\") as admis:\n",
    "                admis.write(line)\n",
    "            i+=1\n",
    "            if i>10:\n",
    "                with open(\"attente.txt\", \"w\") as attente:\n",
    "                    attente.write(line)"
   ]
  },
  {
   "cell_type": "markdown",
   "metadata": {},
   "source": [
    "**Exercice 4:**\n",
    "\n",
    "Écrivez un programme permettant à un utilisateur de deviner un mot choisi au hasard dans un fichier nommé **’mots.txt’** dans lequel chaque ligne comporte un mot en capitale.  L’utilisateur a **7 chances** pour découvrir le mot en proposant une lettre à chaque fois. Si la lettre proposée n’est pas dans le mot, une chance lui est retirée sinon on afficher toutes les occurrences de cet lettre dans le mot. Voici un exemple :\n",
    "\n",
    "<img src='jeu.png' width=50% height=50%/>"
   ]
  },
  {
   "cell_type": "code",
   "execution_count": null,
   "metadata": {},
   "outputs": [],
   "source": [
    "import random\n",
    "f = open(\"mots.txt\", \"r\")\n",
    "L = f.readlines()\n",
    "mot = L[random.randint(0,len(L))][:-1]\n",
    "\n",
    "print(\"############# Can you guess the noun? write its letter ###############\")\n",
    "i = 7\n",
    "while i >= 1:\n",
    "    c = chr(input(\">>> \"))\n",
    "    if c in mot:\n",
    "      print(mot.intersection(c))\n",
    "    else:\n",
    "      print(\"try again :(\")\n",
    "    print(\"you still\", i,\"chances\")\n",
    "    i-=1\n"
   ]
  },
  {
   "cell_type": "code",
   "execution_count": 7,
   "metadata": {},
   "outputs": [
    {
     "data": {
      "text/plain": [
       "'POISSON'"
      ]
     },
     "execution_count": 7,
     "metadata": {},
     "output_type": "execute_result"
    }
   ],
   "source": []
  },
  {
   "cell_type": "code",
   "execution_count": null,
   "metadata": {},
   "outputs": [],
   "source": []
  }
 ],
 "metadata": {
  "kernelspec": {
   "display_name": "Python 3",
   "language": "python",
   "name": "python3"
  },
  "language_info": {
   "codemirror_mode": {
    "name": "ipython",
    "version": 3
   },
   "file_extension": ".py",
   "mimetype": "text/x-python",
   "name": "python",
   "nbconvert_exporter": "python",
   "pygments_lexer": "ipython3",
   "version": "3.8.5"
  }
 },
 "nbformat": 4,
 "nbformat_minor": 2
}
