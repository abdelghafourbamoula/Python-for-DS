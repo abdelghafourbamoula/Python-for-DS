{
 "cells": [
  {
   "cell_type": "markdown",
   "id": "b4b35c0f",
   "metadata": {},
   "source": [
    "## Exercice 1 (La distance de Hamming)"
   ]
  },
  {
   "cell_type": "code",
   "execution_count": 1,
   "id": "016b1f84",
   "metadata": {},
   "outputs": [],
   "source": [
    "def distanceH(S1,S2):\n",
    "    if len(S1)==len(S2):\n",
    "        return sum([1 for i in range(len(S1)) if S1[i] != S2[i]])"
   ]
  },
  {
   "cell_type": "code",
   "execution_count": 2,
   "id": "47cf86a2",
   "metadata": {},
   "outputs": [
    {
     "data": {
      "text/plain": [
       "1"
      ]
     },
     "execution_count": 2,
     "metadata": {},
     "output_type": "execute_result"
    }
   ],
   "source": [
    "distanceH(\"sure\", \"cure\")"
   ]
  },
  {
   "cell_type": "code",
   "execution_count": 3,
   "id": "35b0a632",
   "metadata": {},
   "outputs": [],
   "source": [
    "def distanceH_langage(L):\n",
    "    return min([distanceH(S1, S2) for S1 in L for S2 in L if S1 != S2])"
   ]
  },
  {
   "cell_type": "code",
   "execution_count": 4,
   "id": "cdb1a6cc",
   "metadata": {},
   "outputs": [
    {
     "data": {
      "text/plain": [
       "1"
      ]
     },
     "execution_count": 4,
     "metadata": {},
     "output_type": "execute_result"
    }
   ],
   "source": [
    "langage =[\"aabb\",\"xayy\",\"tghy\",\"xgyy\"]\n",
    "distanceH_langage(langage)"
   ]
  },
  {
   "cell_type": "code",
   "execution_count": 5,
   "id": "0c79cd23",
   "metadata": {},
   "outputs": [],
   "source": [
    "def binaire(N):\n",
    "    B = ''\n",
    "    while N!=0:\n",
    "        B += str(N%2)\n",
    "        N//=2\n",
    "        \n",
    "    if len(B) != 8:\n",
    "        B = (8-len(B))*'0' + B\n",
    "    return B"
   ]
  },
  {
   "cell_type": "code",
   "execution_count": 6,
   "id": "00377cca",
   "metadata": {},
   "outputs": [
    {
     "data": {
      "text/plain": [
       "'00000111'"
      ]
     },
     "execution_count": 6,
     "metadata": {},
     "output_type": "execute_result"
    }
   ],
   "source": [
    "A = 7\n",
    "B = 4\n",
    "binaire(A)"
   ]
  },
  {
   "cell_type": "code",
   "execution_count": 7,
   "id": "190eb098",
   "metadata": {},
   "outputs": [],
   "source": [
    "def distanceNombre(A, B):\n",
    "    return distanceH(binaire(A), binaire(B))"
   ]
  },
  {
   "cell_type": "code",
   "execution_count": 8,
   "id": "546b8705",
   "metadata": {},
   "outputs": [
    {
     "data": {
      "text/plain": [
       "2"
      ]
     },
     "execution_count": 8,
     "metadata": {},
     "output_type": "execute_result"
    }
   ],
   "source": [
    "distanceNombre(A, B)"
   ]
  },
  {
   "cell_type": "markdown",
   "id": "f7fb78cb",
   "metadata": {},
   "source": [
    "## Exercice 2 (ADN et génôme)"
   ]
  },
  {
   "cell_type": "code",
   "execution_count": 9,
   "id": "8c6af574",
   "metadata": {},
   "outputs": [],
   "source": [
    "def estADN(ch):\n",
    "    return False not in [False for i in ch if i not in ['A','C','G','T']]"
   ]
  },
  {
   "cell_type": "code",
   "execution_count": 10,
   "id": "61d76218",
   "metadata": {},
   "outputs": [
    {
     "data": {
      "text/plain": [
       "True"
      ]
     },
     "execution_count": 10,
     "metadata": {},
     "output_type": "execute_result"
    }
   ],
   "source": [
    "estADN(\"TTGAC\")"
   ]
  },
  {
   "cell_type": "code",
   "execution_count": 11,
   "id": "806c3e5c",
   "metadata": {},
   "outputs": [
    {
     "data": {
      "text/plain": [
       "False"
      ]
     },
     "execution_count": 11,
     "metadata": {},
     "output_type": "execute_result"
    }
   ],
   "source": [
    "estADN(\"CaTG\")"
   ]
  },
  {
   "cell_type": "code",
   "execution_count": 12,
   "id": "bfdee0fc",
   "metadata": {},
   "outputs": [
    {
     "data": {
      "text/plain": [
       "False"
      ]
     },
     "execution_count": 12,
     "metadata": {},
     "output_type": "execute_result"
    }
   ],
   "source": [
    "estADN(\"AMOG\")"
   ]
  },
  {
   "cell_type": "code",
   "execution_count": 13,
   "id": "5794565d",
   "metadata": {},
   "outputs": [],
   "source": [
    "def masseMolaire(ch):\n",
    "    ADN_mm = {'A':135, 'C':126 ,'G':151, 'T':111}\n",
    "    if estADN(ch):\n",
    "        return sum([ADN_mm[l] for l in ch])"
   ]
  },
  {
   "cell_type": "code",
   "execution_count": 14,
   "id": "94a00a8b",
   "metadata": {},
   "outputs": [
    {
     "data": {
      "text/plain": [
       "658"
      ]
     },
     "execution_count": 14,
     "metadata": {},
     "output_type": "execute_result"
    }
   ],
   "source": [
    "masseMolaire(\"AGATC\")"
   ]
  },
  {
   "cell_type": "code",
   "execution_count": 15,
   "id": "c25a22e3",
   "metadata": {},
   "outputs": [],
   "source": [
    "def brinComp(b):\n",
    "    ADN_comp = {'A':'T','T':'A','C':'G','G':'C'}\n",
    "    if estADN(b):\n",
    "        return ''.join([ADN_comp[l] for l in b])"
   ]
  },
  {
   "cell_type": "code",
   "execution_count": 16,
   "id": "e80fd0f1",
   "metadata": {},
   "outputs": [
    {
     "data": {
      "text/plain": [
       "'TTCA'"
      ]
     },
     "execution_count": 16,
     "metadata": {},
     "output_type": "execute_result"
    }
   ],
   "source": [
    "brinComp(\"AAGT\")"
   ]
  },
  {
   "cell_type": "code",
   "execution_count": 17,
   "id": "9c5bd17c",
   "metadata": {},
   "outputs": [],
   "source": [
    "def sous_sequence(A, B):\n",
    "    return True if estADN(A) and estADN(B) and A in B else False"
   ]
  },
  {
   "cell_type": "code",
   "execution_count": 18,
   "id": "6c7d58ae",
   "metadata": {},
   "outputs": [
    {
     "data": {
      "text/plain": [
       "True"
      ]
     },
     "execution_count": 18,
     "metadata": {},
     "output_type": "execute_result"
    }
   ],
   "source": [
    "sous_sequence(\"ATC\", \"GGTATCG\")"
   ]
  },
  {
   "cell_type": "code",
   "execution_count": 19,
   "id": "5a644f70",
   "metadata": {},
   "outputs": [
    {
     "data": {
      "text/plain": [
       "False"
      ]
     },
     "execution_count": 19,
     "metadata": {},
     "output_type": "execute_result"
    }
   ],
   "source": [
    "sous_sequence(\"GC\",\"AAT\")"
   ]
  },
  {
   "cell_type": "code",
   "execution_count": 61,
   "id": "a725f6a1",
   "metadata": {},
   "outputs": [],
   "source": [
    "def TrouverGene(CH):\n",
    "    fin = ['TAG','TAA','TGA']\n",
    "    b = CH.find('ATG')\n",
    "    L = []\n",
    "    if b != -1:\n",
    "        for F in fin:\n",
    "            e = CH.find(F)\n",
    "            if e != -1:\n",
    "                L = CH[b+3:e]\n",
    "                break\n",
    "    while len(L)%3 == 0 and len(L)>3:\n",
    "        L = L[:-1]\n",
    "    \n",
    "    l = len(L)\n",
    "    if l>=3:\n",
    "        for i in range(0,l-3,3): \n",
    "            print(''.join(L[i:i+3]))\n",
    "    else:\n",
    "        print(\"pas de gene!\")\n",
    "            \n",
    "        "
   ]
  },
  {
   "cell_type": "code",
   "execution_count": 64,
   "id": "2eeb1074",
   "metadata": {},
   "outputs": [
    {
     "name": "stdout",
     "output_type": "stream",
     "text": [
      "TTT\n",
      "TAA\n",
      "GGA\n",
      "TGG\n",
      "GGC\n"
     ]
    }
   ],
   "source": [
    "TrouverGene(\"TTATGTTTTAAGGATGGGGCGTTAGTT\")"
   ]
  },
  {
   "cell_type": "code",
   "execution_count": 65,
   "id": "3ad318c4",
   "metadata": {},
   "outputs": [
    {
     "name": "stdout",
     "output_type": "stream",
     "text": [
      "pas de gene!\n"
     ]
    }
   ],
   "source": [
    "TrouverGene(\"TGTGTGTATAT\")"
   ]
  },
  {
   "cell_type": "markdown",
   "id": "364b81f9",
   "metadata": {},
   "source": [
    "## Exercice 3"
   ]
  },
  {
   "cell_type": "code",
   "execution_count": 6,
   "id": "7090719a",
   "metadata": {},
   "outputs": [],
   "source": [
    "def freqChaine(ch):\n",
    "    return {c:ch.count(c) for c in ch}"
   ]
  },
  {
   "cell_type": "code",
   "execution_count": 7,
   "id": "fd32c32a",
   "metadata": {},
   "outputs": [
    {
     "data": {
      "text/plain": [
       "{'a': 3, 'b': 4, '!': 1}"
      ]
     },
     "execution_count": 7,
     "metadata": {},
     "output_type": "execute_result"
    }
   ],
   "source": [
    "freqChaine('abbabba!')"
   ]
  },
  {
   "cell_type": "code",
   "execution_count": 32,
   "id": "3e86715a",
   "metadata": {},
   "outputs": [],
   "source": [
    "def maxDic(d):\n",
    "    valmax = max([d[key] for key in d])\n",
    "    return ''.join([key for key in d if d[key] == valmax])"
   ]
  },
  {
   "cell_type": "code",
   "execution_count": 33,
   "id": "62d001c1",
   "metadata": {},
   "outputs": [
    {
     "data": {
      "text/plain": [
       "'d'"
      ]
     },
     "execution_count": 33,
     "metadata": {},
     "output_type": "execute_result"
    }
   ],
   "source": [
    "maxDic({'a': 3, 'b' : 5 , 'c' : 0, 'd' : 10})"
   ]
  },
  {
   "cell_type": "code",
   "execution_count": 114,
   "id": "a63abb03",
   "metadata": {},
   "outputs": [],
   "source": [
    "def triCles(d):\n",
    "    L = list()\n",
    "    values = list(d.values())\n",
    "    for i in range(len(d)-1):\n",
    "        for key, value in d.items():\n",
    "            if value == max(values):\n",
    "                L.append(key)\n",
    "                if len(values) != 1:\n",
    "                    values.remove(max(values))\n",
    "    return L"
   ]
  },
  {
   "cell_type": "code",
   "execution_count": 115,
   "id": "f1c125c2",
   "metadata": {},
   "outputs": [
    {
     "data": {
      "text/plain": [
       "['d', 'b', 'a', 'c']"
      ]
     },
     "execution_count": 115,
     "metadata": {},
     "output_type": "execute_result"
    }
   ],
   "source": [
    "triCles({'a': 3, 'b' : 5 , 'c' : 0, 'd' : 10})"
   ]
  },
  {
   "cell_type": "markdown",
   "id": "2f2b9d91",
   "metadata": {},
   "source": [
    "## Exercice 4: (QCM)"
   ]
  },
  {
   "cell_type": "code",
   "execution_count": 1,
   "id": "1edc559c",
   "metadata": {},
   "outputs": [],
   "source": [
    "from random import shuffle\n",
    "\n",
    "def question(q):\n",
    "    print()\n",
    "    print(q['question'])\n",
    "    choix = [q['correcte']]+q['incorrecte']\n",
    "    shuffle(choix)\n",
    "    print(choix)\n",
    "    reponse = input(\">>> La reponse est: \")\n",
    "    print(\"Bonne réponse!\") if reponse==q['correcte'] else print(\"Mauvaise réponse !\" )\n",
    "    \n",
    "    return +1 if  reponse==q['correcte'] else -1"
   ]
  },
  {
   "cell_type": "code",
   "execution_count": null,
   "id": "c9dcfad9",
   "metadata": {},
   "outputs": [],
   "source": [
    "quest = {'question': \"Quelle est la couleur du cheval blanc d’Henry IV ?\",\n",
    "     'correcte': \"blanc\",\n",
    "     'incorrecte': [\"gris\",\"noir\",\"orange\"]\n",
    "    }"
   ]
  },
  {
   "cell_type": "code",
   "execution_count": 3,
   "id": "0e9afa49",
   "metadata": {},
   "outputs": [
    {
     "name": "stdout",
     "output_type": "stream",
     "text": [
      "\n",
      "Quelle est la couleur du cheval blanc d’Henry IV ?\n",
      "['blanc', 'orange', 'noir', 'gris']\n",
      ">>> La reponse est: noir\n",
      "Mauvaise réponse !\n"
     ]
    },
    {
     "data": {
      "text/plain": [
       "-1"
      ]
     },
     "execution_count": 3,
     "metadata": {},
     "output_type": "execute_result"
    }
   ],
   "source": [
    "question(quest)"
   ]
  },
  {
   "cell_type": "code",
   "execution_count": 11,
   "id": "f21ce393",
   "metadata": {},
   "outputs": [],
   "source": [
    "def Quiz(q):\n",
    "    shuffle(q)\n",
    "    score = 100\n",
    "    for quest in q:\n",
    "        note = question(quest)\n",
    "        if note == -1:\n",
    "            score -= 100/len(q)\n",
    "    return \"Votre score est: \"+str(score)"
   ]
  },
  {
   "cell_type": "code",
   "execution_count": 12,
   "id": "6c8cd4b0",
   "metadata": {},
   "outputs": [],
   "source": [
    "qs = [\n",
    "    {'question': \"Quelle est la couleur du cheval blanc d’Henry IV ?\",\n",
    "     'correcte': \"blanc\",\n",
    "     'incorrecte': [\"gris\",\"noir\",\"orange\"]},\n",
    "    \n",
    "    {'question': \"2 + 2 = ?\",\n",
    "     'correcte': \"4\",\n",
    "     'incorrecte': [\"42\",\"44\",\"0\"]},\n",
    "    \n",
    "    {'question': \"Qui publia et quand fut publié le premier algorithme ?\",\n",
    "     'correcte': \"Al-Khawarizmi\",\n",
    "     'incorrecte': [\"Edmund Husserl\",\"John van Neumann\",\"Guido van Rossum\"]},\n",
    "    \n",
    "    {'question': \"Chasser l'intrus parmi les langages de programmation suivants:\",\n",
    "     'correcte': \"Linux\",\n",
    "     'incorrecte': [\"Python\",\"C++\",\"Java\"]},\n",
    "]"
   ]
  },
  {
   "cell_type": "code",
   "execution_count": 13,
   "id": "7f347590",
   "metadata": {},
   "outputs": [
    {
     "name": "stdout",
     "output_type": "stream",
     "text": [
      "\n",
      "2 + 2 = ?\n",
      "['0', '42', '4', '44']\n",
      ">>> La reponse est: 4\n",
      "Bonne réponse!\n",
      "\n",
      "Qui publia et quand fut publié le premier algorithme ?\n",
      "['Guido van Rossum', 'John van Neumann', 'Edmund Husserl', 'Al-Khawarizmi']\n",
      ">>> La reponse est: Al-Khawarizmi\n",
      "Bonne réponse!\n",
      "\n",
      "Chasser l'intrus parmi les langages de programmation suivants:\n",
      "['C++', 'Python', 'Java', 'Linux']\n",
      ">>> La reponse est: Linux\n",
      "Bonne réponse!\n",
      "\n",
      "Quelle est la couleur du cheval blanc d’Henry IV ?\n",
      "['gris', 'blanc', 'orange', 'noir']\n",
      ">>> La reponse est: gris\n",
      "Mauvaise réponse !\n"
     ]
    },
    {
     "data": {
      "text/plain": [
       "'Votre score est:75.0'"
      ]
     },
     "execution_count": 13,
     "metadata": {},
     "output_type": "execute_result"
    }
   ],
   "source": [
    "Quiz(qs)"
   ]
  },
  {
   "cell_type": "markdown",
   "id": "45d734ec",
   "metadata": {},
   "source": [
    "## Exercice 5:"
   ]
  },
  {
   "cell_type": "code",
   "execution_count": null,
   "id": "6ba14a8d",
   "metadata": {},
   "outputs": [],
   "source": []
  }
 ],
 "metadata": {
  "kernelspec": {
   "display_name": "Python 3",
   "language": "python",
   "name": "python3"
  },
  "language_info": {
   "codemirror_mode": {
    "name": "ipython",
    "version": 3
   },
   "file_extension": ".py",
   "mimetype": "text/x-python",
   "name": "python",
   "nbconvert_exporter": "python",
   "pygments_lexer": "ipython3",
   "version": "3.8.5"
  }
 },
 "nbformat": 4,
 "nbformat_minor": 5
}
