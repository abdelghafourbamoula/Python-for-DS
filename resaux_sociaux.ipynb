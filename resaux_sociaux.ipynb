{
 "metadata": {
  "language_info": {
   "codemirror_mode": {
    "name": "ipython",
    "version": 3
   },
   "file_extension": ".py",
   "mimetype": "text/x-python",
   "name": "python",
   "nbconvert_exporter": "python",
   "pygments_lexer": "ipython3",
   "version": "3.9.2"
  },
  "orig_nbformat": 2,
  "kernelspec": {
   "name": "python392jvsc74a57bd0ea49a9b4ddd5df8f01e6198c7e1099cd1117a687365a24dba115b0d46463ba1a",
   "display_name": "Python 3.9.2 64-bit"
  },
  "metadata": {
   "interpreter": {
    "hash": "ea49a9b4ddd5df8f01e6198c7e1099cd1117a687365a24dba115b0d46463ba1a"
   }
  }
 },
 "nbformat": 4,
 "nbformat_minor": 2,
 "cells": [
  {
   "source": [
    "#         Problème : Étude de réseaux sociaux\n",
    "### Abdelghafour Bamoula"
   ],
   "cell_type": "markdown",
   "metadata": {}
  },
  {
   "source": [
    "#### Question 1.1 Donner une représentation sous forme de listes pour chacun des deux réseaux sociaux ci-dessous :"
   ],
   "cell_type": "markdown",
   "metadata": {}
  },
  {
   "source": [
    "reseau_A = [ 5,\n",
    "            [ [0,1],[0,2],[0,3],\n",
    "              [1,3],[2,3],[4] ]\n",
    "            ]\n",
    "\n",
    "reseau_B = [ 6,\n",
    "            [ [0,1],[1,2],[1,3],\n",
    "              [2,3],[2,4],[4,3] ]\n",
    "            ]"
   ],
   "cell_type": "code",
   "metadata": {},
   "execution_count": 33,
   "outputs": []
  },
  {
   "source": [
    "#### Question 1.2 Écrire une fonction creerReseauVide(n) qui crée, initialise et renvoie la représentation sous forme de liste du réseau à n individus n’ayant aucun lien d’amitié déclaré entre eux.\n"
   ],
   "cell_type": "markdown",
   "metadata": {}
  },
  {
   "cell_type": "code",
   "execution_count": 24,
   "metadata": {},
   "outputs": [],
   "source": [
    "def creerReseauVide(n):\n",
    "    return [n]+[[[i] for i in range(n)]]\n",
    "    "
   ]
  },
  {
   "cell_type": "code",
   "execution_count": 25,
   "metadata": {},
   "outputs": [
    {
     "output_type": "execute_result",
     "data": {
      "text/plain": [
       "[8, [[0], [1], [2], [3], [4], [5], [6], [7]]]"
      ]
     },
     "metadata": {},
     "execution_count": 25
    }
   ],
   "source": [
    "creerReseauVide(8)"
   ]
  },
  {
   "source": [
    "#### Question 1.3 Écrire une fonction estUnLienEntre(paire,i,j) où paire est une liste à deux éléments et i et j sont deux entiers, et qui renvoie True si les deux éléments contenus dans paire sont i et j dans un ordre quelconque ; et renvoie False sinon."
   ],
   "cell_type": "markdown",
   "metadata": {}
  },
  {
   "cell_type": "code",
   "execution_count": 58,
   "metadata": {},
   "outputs": [],
   "source": [
    "def estUnLienEntre(paire,i,j):\n",
    "    return True if (i in paire and j in paire) else False"
   ]
  },
  {
   "cell_type": "code",
   "execution_count": 59,
   "metadata": {},
   "outputs": [
    {
     "output_type": "execute_result",
     "data": {
      "text/plain": [
       "True"
      ]
     },
     "metadata": {},
     "execution_count": 59
    }
   ],
   "source": [
    "estUnLienEntre([0,1],1,0)"
   ]
  },
  {
   "cell_type": "code",
   "execution_count": 61,
   "metadata": {},
   "outputs": [
    {
     "output_type": "execute_result",
     "data": {
      "text/plain": [
       "False"
      ]
     },
     "metadata": {},
     "execution_count": 61
    }
   ],
   "source": [
    "estUnLienEntre([1,2],1,4)"
   ]
  },
  {
   "source": [
    "#### Question 1.4 Écrire une fonction sontAmis(reseau,i,j) qui renvoie True s’il existe un lien d’amitié entre les individus i et j dans le réseau reseau ; et renvoie False sinon."
   ],
   "cell_type": "markdown",
   "metadata": {}
  },
  {
   "cell_type": "code",
   "execution_count": 62,
   "metadata": {},
   "outputs": [],
   "source": [
    "def sontAmis(reseau,i,j):\n",
    "    return True in [True for R in reseau[1] if estUnLienEntre(R,i,j)]"
   ]
  },
  {
   "cell_type": "code",
   "execution_count": 65,
   "metadata": {},
   "outputs": [
    {
     "output_type": "execute_result",
     "data": {
      "text/plain": [
       "True"
      ]
     },
     "metadata": {},
     "execution_count": 65
    }
   ],
   "source": [
    "sontAmis(reseau_A,0,2)"
   ]
  },
  {
   "cell_type": "code",
   "execution_count": 64,
   "metadata": {},
   "outputs": [
    {
     "output_type": "execute_result",
     "data": {
      "text/plain": [
       "False"
      ]
     },
     "metadata": {},
     "execution_count": 64
    }
   ],
   "source": [
    "sontAmis(reseau_B,4,0)"
   ]
  },
  {
   "source": [
    "#### Question 1.5 Écrire une fonction declareAmis(reseau,i,j) qui modifie le réseau reseau pour y ajouter le lien d’amitié entre les individus i et j si ce lien n’y figure pas déjà."
   ],
   "cell_type": "markdown",
   "metadata": {}
  },
  {
   "cell_type": "code",
   "execution_count": 67,
   "metadata": {},
   "outputs": [],
   "source": [
    "def declareAmi(reseau,i,j):\n",
    "        if not sontAmis(reseau,i,j): reseau[1].append([i,j])\n"
   ]
  },
  {
   "cell_type": "code",
   "execution_count": 108,
   "metadata": {},
   "outputs": [
    {
     "output_type": "execute_result",
     "data": {
      "text/plain": [
       "True"
      ]
     },
     "metadata": {},
     "execution_count": 108
    }
   ],
   "source": [
    "declareAmi(reseau_A,2,4)\n",
    "sontAmis(reseau_A,4,2)"
   ]
  },
  {
   "source": [
    "#### Question 1.6 Écrire une fonction listeDesAmisDe(reseau,i) qui renvoie la liste des amis de i dans le réseau reseau.\n"
   ],
   "cell_type": "markdown",
   "metadata": {}
  },
  {
   "cell_type": "code",
   "execution_count": 117,
   "metadata": {},
   "outputs": [],
   "source": [
    "def listeDesAmis(reseau,i):\n",
    "    return [j for j in range(reseau[0]) if sontAmis(reseau,i,j)]"
   ]
  },
  {
   "cell_type": "code",
   "execution_count": 119,
   "metadata": {},
   "outputs": [
    {
     "output_type": "execute_result",
     "data": {
      "text/plain": [
       "[0, 1, 2, 3]"
      ]
     },
     "metadata": {},
     "execution_count": 119
    }
   ],
   "source": [
    "listeDesAmis(reseau_A,0)"
   ]
  },
  {
   "source": [
    "## Partie II : Partitions"
   ],
   "cell_type": "markdown",
   "metadata": {}
  }
 ]
}